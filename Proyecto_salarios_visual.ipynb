{
 "cells": [
  {
   "cell_type": "markdown",
   "metadata": {},
   "source": [
    "## Carga de datos"
   ]
  },
  {
   "cell_type": "markdown",
   "metadata": {},
   "source": [
    "En este notebook vamos a trabajar con un set de datos acerca de la situación laboral y salarios en distintos ámbitos de Data Science. \n",
    "\n",
    "La idea es, en primer lugar, preprocesar los datos, para dejarlos limpios y en un formato compatible con las posteriores acciones. Después, se plantean unas preguntas, que se responderán de manera numerica (usando NumPy y Pandas) y de manera gráfica (usando MatPlotlib, Seaborn y Plotly).\n"
   ]
  },
  {
   "cell_type": "code",
   "execution_count": 2,
   "metadata": {},
   "outputs": [],
   "source": [
    "import pandas as pd\n",
    "import numpy as np\n",
    "\n",
    "import matplotlib.pyplot as plt\n",
    "import seaborn as sns \n",
    "import plotly.express as px\n",
    "import plotly.graph_objects as go\n",
    "import warnings\n",
    "warnings.filterwarnings('ignore')"
   ]
  },
  {
   "cell_type": "code",
   "execution_count": null,
   "metadata": {},
   "outputs": [],
   "source": [
    "df = pd.read_csv(r'datos\\ds_salaries.csv')"
   ]
  },
  {
   "cell_type": "code",
   "execution_count": 4,
   "metadata": {},
   "outputs": [
    {
     "data": {
      "text/html": [
       "<div>\n",
       "<style scoped>\n",
       "    .dataframe tbody tr th:only-of-type {\n",
       "        vertical-align: middle;\n",
       "    }\n",
       "\n",
       "    .dataframe tbody tr th {\n",
       "        vertical-align: top;\n",
       "    }\n",
       "\n",
       "    .dataframe thead th {\n",
       "        text-align: right;\n",
       "    }\n",
       "</style>\n",
       "<table border=\"1\" class=\"dataframe\">\n",
       "  <thead>\n",
       "    <tr style=\"text-align: right;\">\n",
       "      <th></th>\n",
       "      <th>work_year</th>\n",
       "      <th>experience_level</th>\n",
       "      <th>employment_type</th>\n",
       "      <th>job_title</th>\n",
       "      <th>salary</th>\n",
       "      <th>salary_currency</th>\n",
       "      <th>salary_in_usd</th>\n",
       "      <th>employee_residence</th>\n",
       "      <th>remote_ratio</th>\n",
       "      <th>company_location</th>\n",
       "      <th>company_size</th>\n",
       "    </tr>\n",
       "  </thead>\n",
       "  <tbody>\n",
       "    <tr>\n",
       "      <th>0</th>\n",
       "      <td>2023</td>\n",
       "      <td>SE</td>\n",
       "      <td>FT</td>\n",
       "      <td>Principal Data Scientist</td>\n",
       "      <td>80000</td>\n",
       "      <td>EUR</td>\n",
       "      <td>85847</td>\n",
       "      <td>ES</td>\n",
       "      <td>100</td>\n",
       "      <td>ES</td>\n",
       "      <td>L</td>\n",
       "    </tr>\n",
       "    <tr>\n",
       "      <th>1</th>\n",
       "      <td>2023</td>\n",
       "      <td>MI</td>\n",
       "      <td>CT</td>\n",
       "      <td>ML Engineer</td>\n",
       "      <td>30000</td>\n",
       "      <td>USD</td>\n",
       "      <td>30000</td>\n",
       "      <td>US</td>\n",
       "      <td>100</td>\n",
       "      <td>US</td>\n",
       "      <td>S</td>\n",
       "    </tr>\n",
       "    <tr>\n",
       "      <th>2</th>\n",
       "      <td>2023</td>\n",
       "      <td>MI</td>\n",
       "      <td>CT</td>\n",
       "      <td>ML Engineer</td>\n",
       "      <td>25500</td>\n",
       "      <td>USD</td>\n",
       "      <td>25500</td>\n",
       "      <td>US</td>\n",
       "      <td>100</td>\n",
       "      <td>US</td>\n",
       "      <td>S</td>\n",
       "    </tr>\n",
       "    <tr>\n",
       "      <th>3</th>\n",
       "      <td>2023</td>\n",
       "      <td>SE</td>\n",
       "      <td>FT</td>\n",
       "      <td>Data Scientist</td>\n",
       "      <td>175000</td>\n",
       "      <td>USD</td>\n",
       "      <td>175000</td>\n",
       "      <td>CA</td>\n",
       "      <td>100</td>\n",
       "      <td>CA</td>\n",
       "      <td>M</td>\n",
       "    </tr>\n",
       "    <tr>\n",
       "      <th>4</th>\n",
       "      <td>2023</td>\n",
       "      <td>SE</td>\n",
       "      <td>FT</td>\n",
       "      <td>Data Scientist</td>\n",
       "      <td>120000</td>\n",
       "      <td>USD</td>\n",
       "      <td>120000</td>\n",
       "      <td>CA</td>\n",
       "      <td>100</td>\n",
       "      <td>CA</td>\n",
       "      <td>M</td>\n",
       "    </tr>\n",
       "  </tbody>\n",
       "</table>\n",
       "</div>"
      ],
      "text/plain": [
       "   work_year experience_level employment_type                 job_title  \\\n",
       "0       2023               SE              FT  Principal Data Scientist   \n",
       "1       2023               MI              CT               ML Engineer   \n",
       "2       2023               MI              CT               ML Engineer   \n",
       "3       2023               SE              FT            Data Scientist   \n",
       "4       2023               SE              FT            Data Scientist   \n",
       "\n",
       "   salary salary_currency  salary_in_usd employee_residence  remote_ratio  \\\n",
       "0   80000             EUR          85847                 ES           100   \n",
       "1   30000             USD          30000                 US           100   \n",
       "2   25500             USD          25500                 US           100   \n",
       "3  175000             USD         175000                 CA           100   \n",
       "4  120000             USD         120000                 CA           100   \n",
       "\n",
       "  company_location company_size  \n",
       "0               ES            L  \n",
       "1               US            S  \n",
       "2               US            S  \n",
       "3               CA            M  \n",
       "4               CA            M  "
      ]
     },
     "execution_count": 4,
     "metadata": {},
     "output_type": "execute_result"
    }
   ],
   "source": [
    "df.head()"
   ]
  },
  {
   "cell_type": "markdown",
   "metadata": {},
   "source": [
    "Miro las columnas, el tipo de datos, presencia de nulos, duplicados,... Para hacerme una idea de que datos tengo"
   ]
  },
  {
   "cell_type": "code",
   "execution_count": 5,
   "metadata": {},
   "outputs": [
    {
     "data": {
      "text/plain": [
       "Index(['work_year', 'experience_level', 'employment_type', 'job_title',\n",
       "       'salary', 'salary_currency', 'salary_in_usd', 'employee_residence',\n",
       "       'remote_ratio', 'company_location', 'company_size'],\n",
       "      dtype='object')"
      ]
     },
     "execution_count": 5,
     "metadata": {},
     "output_type": "execute_result"
    }
   ],
   "source": [
    "df.columns"
   ]
  },
  {
   "cell_type": "code",
   "execution_count": 6,
   "metadata": {},
   "outputs": [
    {
     "data": {
      "text/plain": [
       "work_year              int64\n",
       "experience_level      object\n",
       "employment_type       object\n",
       "job_title             object\n",
       "salary                 int64\n",
       "salary_currency       object\n",
       "salary_in_usd          int64\n",
       "employee_residence    object\n",
       "remote_ratio           int64\n",
       "company_location      object\n",
       "company_size          object\n",
       "dtype: object"
      ]
     },
     "execution_count": 6,
     "metadata": {},
     "output_type": "execute_result"
    }
   ],
   "source": [
    "df.dtypes"
   ]
  },
  {
   "cell_type": "code",
   "execution_count": 7,
   "metadata": {},
   "outputs": [
    {
     "data": {
      "text/plain": [
       "work_year             0\n",
       "experience_level      0\n",
       "employment_type       0\n",
       "job_title             0\n",
       "salary                0\n",
       "salary_currency       0\n",
       "salary_in_usd         0\n",
       "employee_residence    0\n",
       "remote_ratio          0\n",
       "company_location      0\n",
       "company_size          0\n",
       "dtype: int64"
      ]
     },
     "execution_count": 7,
     "metadata": {},
     "output_type": "execute_result"
    }
   ],
   "source": [
    "df.isnull().sum()"
   ]
  },
  {
   "cell_type": "code",
   "execution_count": 8,
   "metadata": {},
   "outputs": [
    {
     "data": {
      "text/plain": [
       "np.int64(1171)"
      ]
     },
     "execution_count": 8,
     "metadata": {},
     "output_type": "execute_result"
    }
   ],
   "source": [
    "df.duplicated().sum()"
   ]
  },
  {
   "cell_type": "markdown",
   "metadata": {},
   "source": [
    "## Preprocesamiento"
   ]
  },
  {
   "cell_type": "markdown",
   "metadata": {},
   "source": [
    "En este caso, habria que evaluar si los duplicados son relevantes o son fallos de introduccion de datos"
   ]
  },
  {
   "cell_type": "code",
   "execution_count": 9,
   "metadata": {},
   "outputs": [
    {
     "data": {
      "text/html": [
       "<div>\n",
       "<style scoped>\n",
       "    .dataframe tbody tr th:only-of-type {\n",
       "        vertical-align: middle;\n",
       "    }\n",
       "\n",
       "    .dataframe tbody tr th {\n",
       "        vertical-align: top;\n",
       "    }\n",
       "\n",
       "    .dataframe thead th {\n",
       "        text-align: right;\n",
       "    }\n",
       "</style>\n",
       "<table border=\"1\" class=\"dataframe\">\n",
       "  <thead>\n",
       "    <tr style=\"text-align: right;\">\n",
       "      <th></th>\n",
       "      <th>work_year</th>\n",
       "      <th>experience_level</th>\n",
       "      <th>employment_type</th>\n",
       "      <th>job_title</th>\n",
       "      <th>salary</th>\n",
       "      <th>salary_currency</th>\n",
       "      <th>salary_in_usd</th>\n",
       "      <th>employee_residence</th>\n",
       "      <th>remote_ratio</th>\n",
       "      <th>company_location</th>\n",
       "      <th>company_size</th>\n",
       "    </tr>\n",
       "  </thead>\n",
       "  <tbody>\n",
       "    <tr>\n",
       "      <th>115</th>\n",
       "      <td>2023</td>\n",
       "      <td>SE</td>\n",
       "      <td>FT</td>\n",
       "      <td>Data Scientist</td>\n",
       "      <td>150000</td>\n",
       "      <td>USD</td>\n",
       "      <td>150000</td>\n",
       "      <td>US</td>\n",
       "      <td>0</td>\n",
       "      <td>US</td>\n",
       "      <td>M</td>\n",
       "    </tr>\n",
       "    <tr>\n",
       "      <th>123</th>\n",
       "      <td>2023</td>\n",
       "      <td>SE</td>\n",
       "      <td>FT</td>\n",
       "      <td>Analytics Engineer</td>\n",
       "      <td>289800</td>\n",
       "      <td>USD</td>\n",
       "      <td>289800</td>\n",
       "      <td>US</td>\n",
       "      <td>0</td>\n",
       "      <td>US</td>\n",
       "      <td>M</td>\n",
       "    </tr>\n",
       "    <tr>\n",
       "      <th>153</th>\n",
       "      <td>2023</td>\n",
       "      <td>MI</td>\n",
       "      <td>FT</td>\n",
       "      <td>Data Engineer</td>\n",
       "      <td>100000</td>\n",
       "      <td>USD</td>\n",
       "      <td>100000</td>\n",
       "      <td>US</td>\n",
       "      <td>100</td>\n",
       "      <td>US</td>\n",
       "      <td>M</td>\n",
       "    </tr>\n",
       "    <tr>\n",
       "      <th>154</th>\n",
       "      <td>2023</td>\n",
       "      <td>MI</td>\n",
       "      <td>FT</td>\n",
       "      <td>Data Engineer</td>\n",
       "      <td>70000</td>\n",
       "      <td>USD</td>\n",
       "      <td>70000</td>\n",
       "      <td>US</td>\n",
       "      <td>100</td>\n",
       "      <td>US</td>\n",
       "      <td>M</td>\n",
       "    </tr>\n",
       "    <tr>\n",
       "      <th>160</th>\n",
       "      <td>2023</td>\n",
       "      <td>SE</td>\n",
       "      <td>FT</td>\n",
       "      <td>Data Engineer</td>\n",
       "      <td>115000</td>\n",
       "      <td>USD</td>\n",
       "      <td>115000</td>\n",
       "      <td>US</td>\n",
       "      <td>0</td>\n",
       "      <td>US</td>\n",
       "      <td>M</td>\n",
       "    </tr>\n",
       "    <tr>\n",
       "      <th>...</th>\n",
       "      <td>...</td>\n",
       "      <td>...</td>\n",
       "      <td>...</td>\n",
       "      <td>...</td>\n",
       "      <td>...</td>\n",
       "      <td>...</td>\n",
       "      <td>...</td>\n",
       "      <td>...</td>\n",
       "      <td>...</td>\n",
       "      <td>...</td>\n",
       "      <td>...</td>\n",
       "    </tr>\n",
       "    <tr>\n",
       "      <th>3439</th>\n",
       "      <td>2022</td>\n",
       "      <td>MI</td>\n",
       "      <td>FT</td>\n",
       "      <td>Data Scientist</td>\n",
       "      <td>78000</td>\n",
       "      <td>USD</td>\n",
       "      <td>78000</td>\n",
       "      <td>US</td>\n",
       "      <td>100</td>\n",
       "      <td>US</td>\n",
       "      <td>M</td>\n",
       "    </tr>\n",
       "    <tr>\n",
       "      <th>3440</th>\n",
       "      <td>2022</td>\n",
       "      <td>SE</td>\n",
       "      <td>FT</td>\n",
       "      <td>Data Engineer</td>\n",
       "      <td>135000</td>\n",
       "      <td>USD</td>\n",
       "      <td>135000</td>\n",
       "      <td>US</td>\n",
       "      <td>100</td>\n",
       "      <td>US</td>\n",
       "      <td>M</td>\n",
       "    </tr>\n",
       "    <tr>\n",
       "      <th>3441</th>\n",
       "      <td>2022</td>\n",
       "      <td>SE</td>\n",
       "      <td>FT</td>\n",
       "      <td>Data Engineer</td>\n",
       "      <td>115000</td>\n",
       "      <td>USD</td>\n",
       "      <td>115000</td>\n",
       "      <td>US</td>\n",
       "      <td>100</td>\n",
       "      <td>US</td>\n",
       "      <td>M</td>\n",
       "    </tr>\n",
       "    <tr>\n",
       "      <th>3586</th>\n",
       "      <td>2021</td>\n",
       "      <td>MI</td>\n",
       "      <td>FT</td>\n",
       "      <td>Data Engineer</td>\n",
       "      <td>200000</td>\n",
       "      <td>USD</td>\n",
       "      <td>200000</td>\n",
       "      <td>US</td>\n",
       "      <td>100</td>\n",
       "      <td>US</td>\n",
       "      <td>L</td>\n",
       "    </tr>\n",
       "    <tr>\n",
       "      <th>3709</th>\n",
       "      <td>2021</td>\n",
       "      <td>MI</td>\n",
       "      <td>FT</td>\n",
       "      <td>Data Scientist</td>\n",
       "      <td>76760</td>\n",
       "      <td>EUR</td>\n",
       "      <td>90734</td>\n",
       "      <td>DE</td>\n",
       "      <td>50</td>\n",
       "      <td>DE</td>\n",
       "      <td>L</td>\n",
       "    </tr>\n",
       "  </tbody>\n",
       "</table>\n",
       "<p>1171 rows × 11 columns</p>\n",
       "</div>"
      ],
      "text/plain": [
       "      work_year experience_level employment_type           job_title  salary  \\\n",
       "115        2023               SE              FT      Data Scientist  150000   \n",
       "123        2023               SE              FT  Analytics Engineer  289800   \n",
       "153        2023               MI              FT       Data Engineer  100000   \n",
       "154        2023               MI              FT       Data Engineer   70000   \n",
       "160        2023               SE              FT       Data Engineer  115000   \n",
       "...         ...              ...             ...                 ...     ...   \n",
       "3439       2022               MI              FT      Data Scientist   78000   \n",
       "3440       2022               SE              FT       Data Engineer  135000   \n",
       "3441       2022               SE              FT       Data Engineer  115000   \n",
       "3586       2021               MI              FT       Data Engineer  200000   \n",
       "3709       2021               MI              FT      Data Scientist   76760   \n",
       "\n",
       "     salary_currency  salary_in_usd employee_residence  remote_ratio  \\\n",
       "115              USD         150000                 US             0   \n",
       "123              USD         289800                 US             0   \n",
       "153              USD         100000                 US           100   \n",
       "154              USD          70000                 US           100   \n",
       "160              USD         115000                 US             0   \n",
       "...              ...            ...                ...           ...   \n",
       "3439             USD          78000                 US           100   \n",
       "3440             USD         135000                 US           100   \n",
       "3441             USD         115000                 US           100   \n",
       "3586             USD         200000                 US           100   \n",
       "3709             EUR          90734                 DE            50   \n",
       "\n",
       "     company_location company_size  \n",
       "115                US            M  \n",
       "123                US            M  \n",
       "153                US            M  \n",
       "154                US            M  \n",
       "160                US            M  \n",
       "...               ...          ...  \n",
       "3439               US            M  \n",
       "3440               US            M  \n",
       "3441               US            M  \n",
       "3586               US            L  \n",
       "3709               DE            L  \n",
       "\n",
       "[1171 rows x 11 columns]"
      ]
     },
     "execution_count": 9,
     "metadata": {},
     "output_type": "execute_result"
    }
   ],
   "source": [
    "df[df.duplicated()]"
   ]
  },
  {
   "cell_type": "markdown",
   "metadata": {},
   "source": [
    "En este caso, hemos decidido eliminar los duplicados, ya que no aportan informacion adicional y pueden afectar al analisis\n"
   ]
  },
  {
   "cell_type": "code",
   "execution_count": 10,
   "metadata": {},
   "outputs": [],
   "source": [
    "[~df.duplicated()]  #Hay dos maneras para hacerlo\n",
    "df.drop_duplicates(inplace=True)\n"
   ]
  },
  {
   "cell_type": "code",
   "execution_count": 11,
   "metadata": {},
   "outputs": [
    {
     "data": {
      "text/plain": [
       "(2584, 11)"
      ]
     },
     "execution_count": 11,
     "metadata": {},
     "output_type": "execute_result"
    }
   ],
   "source": [
    "df.shape"
   ]
  },
  {
   "cell_type": "code",
   "execution_count": 12,
   "metadata": {},
   "outputs": [
    {
     "data": {
      "text/html": [
       "<div>\n",
       "<style scoped>\n",
       "    .dataframe tbody tr th:only-of-type {\n",
       "        vertical-align: middle;\n",
       "    }\n",
       "\n",
       "    .dataframe tbody tr th {\n",
       "        vertical-align: top;\n",
       "    }\n",
       "\n",
       "    .dataframe thead th {\n",
       "        text-align: right;\n",
       "    }\n",
       "</style>\n",
       "<table border=\"1\" class=\"dataframe\">\n",
       "  <thead>\n",
       "    <tr style=\"text-align: right;\">\n",
       "      <th></th>\n",
       "      <th>work_year</th>\n",
       "      <th>experience_level</th>\n",
       "      <th>employment_type</th>\n",
       "      <th>job_title</th>\n",
       "      <th>salary</th>\n",
       "      <th>salary_currency</th>\n",
       "      <th>salary_in_usd</th>\n",
       "      <th>employee_residence</th>\n",
       "      <th>remote_ratio</th>\n",
       "      <th>company_location</th>\n",
       "      <th>company_size</th>\n",
       "    </tr>\n",
       "  </thead>\n",
       "  <tbody>\n",
       "    <tr>\n",
       "      <th>0</th>\n",
       "      <td>2023</td>\n",
       "      <td>SE</td>\n",
       "      <td>FT</td>\n",
       "      <td>Principal Data Scientist</td>\n",
       "      <td>80000</td>\n",
       "      <td>EUR</td>\n",
       "      <td>85847</td>\n",
       "      <td>ES</td>\n",
       "      <td>100</td>\n",
       "      <td>ES</td>\n",
       "      <td>L</td>\n",
       "    </tr>\n",
       "    <tr>\n",
       "      <th>1</th>\n",
       "      <td>2023</td>\n",
       "      <td>MI</td>\n",
       "      <td>CT</td>\n",
       "      <td>ML Engineer</td>\n",
       "      <td>30000</td>\n",
       "      <td>USD</td>\n",
       "      <td>30000</td>\n",
       "      <td>US</td>\n",
       "      <td>100</td>\n",
       "      <td>US</td>\n",
       "      <td>S</td>\n",
       "    </tr>\n",
       "    <tr>\n",
       "      <th>2</th>\n",
       "      <td>2023</td>\n",
       "      <td>MI</td>\n",
       "      <td>CT</td>\n",
       "      <td>ML Engineer</td>\n",
       "      <td>25500</td>\n",
       "      <td>USD</td>\n",
       "      <td>25500</td>\n",
       "      <td>US</td>\n",
       "      <td>100</td>\n",
       "      <td>US</td>\n",
       "      <td>S</td>\n",
       "    </tr>\n",
       "    <tr>\n",
       "      <th>3</th>\n",
       "      <td>2023</td>\n",
       "      <td>SE</td>\n",
       "      <td>FT</td>\n",
       "      <td>Data Scientist</td>\n",
       "      <td>175000</td>\n",
       "      <td>USD</td>\n",
       "      <td>175000</td>\n",
       "      <td>CA</td>\n",
       "      <td>100</td>\n",
       "      <td>CA</td>\n",
       "      <td>M</td>\n",
       "    </tr>\n",
       "    <tr>\n",
       "      <th>4</th>\n",
       "      <td>2023</td>\n",
       "      <td>SE</td>\n",
       "      <td>FT</td>\n",
       "      <td>Data Scientist</td>\n",
       "      <td>120000</td>\n",
       "      <td>USD</td>\n",
       "      <td>120000</td>\n",
       "      <td>CA</td>\n",
       "      <td>100</td>\n",
       "      <td>CA</td>\n",
       "      <td>M</td>\n",
       "    </tr>\n",
       "  </tbody>\n",
       "</table>\n",
       "</div>"
      ],
      "text/plain": [
       "   work_year experience_level employment_type                 job_title  \\\n",
       "0       2023               SE              FT  Principal Data Scientist   \n",
       "1       2023               MI              CT               ML Engineer   \n",
       "2       2023               MI              CT               ML Engineer   \n",
       "3       2023               SE              FT            Data Scientist   \n",
       "4       2023               SE              FT            Data Scientist   \n",
       "\n",
       "   salary salary_currency  salary_in_usd employee_residence  remote_ratio  \\\n",
       "0   80000             EUR          85847                 ES           100   \n",
       "1   30000             USD          30000                 US           100   \n",
       "2   25500             USD          25500                 US           100   \n",
       "3  175000             USD         175000                 CA           100   \n",
       "4  120000             USD         120000                 CA           100   \n",
       "\n",
       "  company_location company_size  \n",
       "0               ES            L  \n",
       "1               US            S  \n",
       "2               US            S  \n",
       "3               CA            M  \n",
       "4               CA            M  "
      ]
     },
     "execution_count": 12,
     "metadata": {},
     "output_type": "execute_result"
    }
   ],
   "source": [
    "df.head()"
   ]
  },
  {
   "cell_type": "markdown",
   "metadata": {},
   "source": [
    "## Análisis de datos exploratorio (EDA)"
   ]
  },
  {
   "cell_type": "markdown",
   "metadata": {},
   "source": [
    "Uno de las variables más importantes en este Dataset, y sobre la cual tratan muchas de las siguientes preguntas es el sueldo. Por ello, vamos a observar esta variable un poco mas en detalle, y a eliminar posibles artefactos que influyan en el análisis. Tendremos en cuenta la variable 'salary_in_usd', para eliminar cualquier variabilidad debido a las distintas divisas que pueden haber.\n",
    "\n",
    "Para ello lo primero que haremos sera representar con un histograma esta variable y así observar su distribución."
   ]
  },
  {
   "cell_type": "code",
   "execution_count": 13,
   "metadata": {},
   "outputs": [
    {
     "data": {
      "text/plain": [
       "<Axes: >"
      ]
     },
     "execution_count": 13,
     "metadata": {},
     "output_type": "execute_result"
    },
    {
     "data": {
      "image/png": "[encoded data removed]",
      "text/plain": [
       "<Figure size 640x480 with 1 Axes>"
      ]
     },
     "metadata": {},
     "output_type": "display_data"
    }
   ],
   "source": [
    "df['salary_in_usd'].hist(bins=50)"
   ]
  },
  {
   "cell_type": "markdown",
   "metadata": {},
   "source": [
    "Se observa que hay varios valores muy altos que se alejan del resto de valores. Por ello, vamos a usar el rango intercuartilico para eliminar estos posibles outliers.\n",
    "\n",
    "Calculamos el rango intercuartílico (Desde Q25 a Q75), y cogemos 1.5 veces el rango por encima de Q75 y por debajo de Q25. Este será el rango de los valores que cogemos. Los que queden fuera se quitan del dataset. "
   ]
  },
  {
   "cell_type": "code",
   "execution_count": 14,
   "metadata": {},
   "outputs": [],
   "source": [
    "def remove_outliers(df, column):\n",
    "    Q1 = df[column].quantile(0.25)\n",
    "    Q3 = df[column].quantile(0.75)\n",
    "    IQR = Q3 - Q1\n",
    "    lower_bound = Q1 - 1.5*IQR\n",
    "    upper_bound = Q3 + 1.5*IQR\n",
    "    return df[(df[column] > lower_bound) & (df[column] < upper_bound)]"
   ]
  },
  {
   "cell_type": "code",
   "execution_count": 15,
   "metadata": {},
   "outputs": [],
   "source": [
    "df_clean_salary = remove_outliers(df, 'salary_in_usd')"
   ]
  },
  {
   "cell_type": "code",
   "execution_count": 16,
   "metadata": {},
   "outputs": [
    {
     "data": {
      "text/plain": [
       "<Axes: >"
      ]
     },
     "execution_count": 16,
     "metadata": {},
     "output_type": "execute_result"
    },
    {
     "data": {
      "image/png": "[encoded data removed]",
      "text/plain": [
       "<Figure size 640x480 with 1 Axes>"
      ]
     },
     "metadata": {},
     "output_type": "display_data"
    }
   ],
   "source": [
    "df_clean_salary['salary_in_usd'].hist(bins=50)\n"
   ]
  },
  {
   "cell_type": "markdown",
   "metadata": {},
   "source": [
    "Ahora se puede observar como la distribución de los datos se aproxima más a una distribución normal. "
   ]
  },
  {
   "cell_type": "code",
   "execution_count": 17,
   "metadata": {},
   "outputs": [],
   "source": [
    "df = df_clean_salary"
   ]
  },
  {
   "cell_type": "markdown",
   "metadata": {},
   "source": [
    "### ¿Cuál es el tipo de empleo que gana mas dinero?"
   ]
  },
  {
   "cell_type": "code",
   "execution_count": 18,
   "metadata": {},
   "outputs": [
    {
     "data": {
      "text/html": [
       "<div>\n",
       "<style scoped>\n",
       "    .dataframe tbody tr th:only-of-type {\n",
       "        vertical-align: middle;\n",
       "    }\n",
       "\n",
       "    .dataframe tbody tr th {\n",
       "        vertical-align: top;\n",
       "    }\n",
       "\n",
       "    .dataframe thead th {\n",
       "        text-align: right;\n",
       "    }\n",
       "</style>\n",
       "<table border=\"1\" class=\"dataframe\">\n",
       "  <thead>\n",
       "    <tr style=\"text-align: right;\">\n",
       "      <th></th>\n",
       "      <th>salary_in_usd</th>\n",
       "    </tr>\n",
       "    <tr>\n",
       "      <th>job_title</th>\n",
       "      <th></th>\n",
       "    </tr>\n",
       "  </thead>\n",
       "  <tbody>\n",
       "    <tr>\n",
       "      <th>Cloud Data Architect</th>\n",
       "      <td>250000.00</td>\n",
       "    </tr>\n",
       "    <tr>\n",
       "      <th>Data Lead</th>\n",
       "      <td>212500.00</td>\n",
       "    </tr>\n",
       "    <tr>\n",
       "      <th>Principal Data Engineer</th>\n",
       "      <td>192500.00</td>\n",
       "    </tr>\n",
       "    <tr>\n",
       "      <th>Principal Machine Learning Engineer</th>\n",
       "      <td>190000.00</td>\n",
       "    </tr>\n",
       "    <tr>\n",
       "      <th>Applied Scientist</th>\n",
       "      <td>185020.67</td>\n",
       "    </tr>\n",
       "    <tr>\n",
       "      <th>...</th>\n",
       "      <td>...</td>\n",
       "    </tr>\n",
       "    <tr>\n",
       "      <th>3D Computer Vision Researcher</th>\n",
       "      <td>21352.25</td>\n",
       "    </tr>\n",
       "    <tr>\n",
       "      <th>Data Analytics Lead</th>\n",
       "      <td>17509.00</td>\n",
       "    </tr>\n",
       "    <tr>\n",
       "      <th>Staff Data Analyst</th>\n",
       "      <td>15000.00</td>\n",
       "    </tr>\n",
       "    <tr>\n",
       "      <th>Product Data Scientist</th>\n",
       "      <td>8000.00</td>\n",
       "    </tr>\n",
       "    <tr>\n",
       "      <th>Power BI Developer</th>\n",
       "      <td>5409.00</td>\n",
       "    </tr>\n",
       "  </tbody>\n",
       "</table>\n",
       "<p>92 rows × 1 columns</p>\n",
       "</div>"
      ],
      "text/plain": [
       "                                     salary_in_usd\n",
       "job_title                                         \n",
       "Cloud Data Architect                     250000.00\n",
       "Data Lead                                212500.00\n",
       "Principal Data Engineer                  192500.00\n",
       "Principal Machine Learning Engineer      190000.00\n",
       "Applied Scientist                        185020.67\n",
       "...                                            ...\n",
       "3D Computer Vision Researcher             21352.25\n",
       "Data Analytics Lead                       17509.00\n",
       "Staff Data Analyst                        15000.00\n",
       "Product Data Scientist                     8000.00\n",
       "Power BI Developer                         5409.00\n",
       "\n",
       "[92 rows x 1 columns]"
      ]
     },
     "execution_count": 18,
     "metadata": {},
     "output_type": "execute_result"
    }
   ],
   "source": [
    "#Agrego los trabajos por tipo de empleo y calculo la media del salario\n",
    "df[['job_title', 'salary_in_usd']].groupby('job_title').agg('mean').round(2).sort_values(by='salary_in_usd', ascending=False)"
   ]
  },
  {
   "cell_type": "code",
   "execution_count": 19,
   "metadata": {},
   "outputs": [],
   "source": [
    "#Hacemos un dataframe que recoja los 10 empleados mejor pagados, para luego representarlos\n",
    "\n",
    "top_10 = df[['job_title', 'salary_in_usd']].groupby('job_title').agg('mean').round(2).sort_values(by='salary_in_usd', ascending=False).head(10)"
   ]
  },
  {
   "cell_type": "code",
   "execution_count": 20,
   "metadata": {},
   "outputs": [
    {
     "data": {
      "image/png": "[encoded data removed]",
      "text/plain": [
       "<Figure size 1500x500 with 1 Axes>"
      ]
     },
     "metadata": {},
     "output_type": "display_data"
    }
   ],
   "source": [
    "#Grafico plano\n",
    "\n",
    "plt.figure(figsize=(15,5))\n",
    "\n",
    "sns.barplot(x = 'job_title', y='salary_in_usd', \n",
    "            data = top_10, \n",
    "            palette = 'Accent', hue = 'job_title')\n",
    "\n",
    "plt.xlabel('Puestos de trabajo')\n",
    "plt.ylabel('Salario medio (USD)')\n",
    "plt.xticks(rotation=75)\n",
    "plt.grid(visible = True, which='both', axis = 'y')\n",
    "plt.title('Puestos de trabajo mejor pagados')\n",
    "plt.show()"
   ]
  },
  {
   "cell_type": "code",
   "execution_count": 21,
   "metadata": {},
   "outputs": [
    {
     "data": {
      "application/vnd.plotly.v1+json": {
       "config": {
        "plotlyServerURL": "https://plot.ly"
       },
       "data": [
        {
         "alignmentgroup": "True",
         "hovertemplate": "job_title=%{x}<br>salary_in_usd=%{y}<extra></extra>",
         "legendgroup": "",
         "marker": {
          "color": "#636efa",
          "pattern": {
           "shape": ""
          }
         },
         "name": "",
         "offsetgroup": "",
         "orientation": "v",
         "showlegend": false,
         "textposition": "auto",
         "type": "bar",
         "x": [
          "Cloud Data Architect",
          "Data Lead",
          "Principal Data Engineer",
          "Principal Machine Learning Engineer",
          "Applied Scientist",
          "Data Science Manager",
          "Data Infrastructure Engineer",
          "Business Intelligence Engineer",
          "Machine Learning Software Engineer",
          "Head of Data"
         ],
         "xaxis": "x",
         "y": [
          250000,
          212500,
          192500,
          190000,
          185020.67,
          181930.17,
          175051.67,
          174150,
          172133.33,
          167675
         ],
         "yaxis": "y"
        }
       ],
       "layout": {
        "barmode": "relative",
        "legend": {
         "tracegroupgap": 0
        },
        "margin": {
         "t": 60
        },
        "template": {
         "data": {
          "bar": [
           {
            "error_x": {
             "color": "#2a3f5f"
            },
            "error_y": {
             "color": "#2a3f5f"
            },
            "marker": {
             "line": {
              "color": "#E5ECF6",
              "width": 0.5
             },
             "pattern": {
              "fillmode": "overlay",
              "size": 10,
              "solidity": 0.2
             }
            },
            "type": "bar"
           }
          ],
          "barpolar": [
           {
            "marker": {
             "line": {
              "color": "#E5ECF6",
              "width": 0.5
             },
             "pattern": {
              "fillmode": "overlay",
              "size": 10,
              "solidity": 0.2
             }
            },
            "type": "barpolar"
           }
          ],
          "carpet": [
           {
            "aaxis": {
             "endlinecolor": "#2a3f5f",
             "gridcolor": "white",
             "linecolor": "white",
             "minorgridcolor": "white",
             "startlinecolor": "#2a3f5f"
            },
            "baxis": {
             "endlinecolor": "#2a3f5f",
             "gridcolor": "white",
             "linecolor": "white",
             "minorgridcolor": "white",
             "startlinecolor": "#2a3f5f"
            },
            "type": "carpet"
           }
          ],
          "choropleth": [
           {
            "colorbar": {
             "outlinewidth": 0,
             "ticks": ""
            },
            "type": "choropleth"
           }
          ],
          "contour": [
           {
            "colorbar": {
             "outlinewidth": 0,
             "ticks": ""
            },
            "colorscale": [
             [
              0,
              "#0d0887"
             ],
             [
              0.1111111111111111,
              "#46039f"
             ],
             [
              0.2222222222222222,
              "#7201a8"
             ],
             [
              0.3333333333333333,
              "#9c179e"
             ],
             [
              0.4444444444444444,
              "#bd3786"
             ],
             [
              0.5555555555555556,
              "#d8576b"
             ],
             [
              0.6666666666666666,
              "#ed7953"
             ],
             [
              0.7777777777777778,
              "#fb9f3a"
             ],
             [
              0.8888888888888888,
              "#fdca26"
             ],
             [
              1,
              "#f0f921"
             ]
            ],
            "type": "contour"
           }
          ],
          "contourcarpet": [
           {
            "colorbar": {
             "outlinewidth": 0,
             "ticks": ""
            },
            "type": "contourcarpet"
           }
          ],
          "heatmap": [
           {
            "colorbar": {
             "outlinewidth": 0,
             "ticks": ""
            },
            "colorscale": [
             [
              0,
              "#0d0887"
             ],
             [
              0.1111111111111111,
              "#46039f"
             ],
             [
              0.2222222222222222,
              "#7201a8"
             ],
             [
              0.3333333333333333,
              "#9c179e"
             ],
             [
              0.4444444444444444,
              "#bd3786"
             ],
             [
              0.5555555555555556,
              "#d8576b"
             ],
             [
              0.6666666666666666,
              "#ed7953"
             ],
             [
              0.7777777777777778,
              "#fb9f3a"
             ],
             [
              0.8888888888888888,
              "#fdca26"
             ],
             [
              1,
              "#f0f921"
             ]
            ],
            "type": "heatmap"
           }
          ],
          "heatmapgl": [
           {
            "colorbar": {
             "outlinewidth": 0,
             "ticks": ""
            },
            "colorscale": [
             [
              0,
              "#0d0887"
             ],
             [
              0.1111111111111111,
              "#46039f"
             ],
             [
              0.2222222222222222,
              "#7201a8"
             ],
             [
              0.3333333333333333,
              "#9c179e"
             ],
             [
              0.4444444444444444,
              "#bd3786"
             ],
             [
              0.5555555555555556,
              "#d8576b"
             ],
             [
              0.6666666666666666,
              "#ed7953"
             ],
             [
              0.7777777777777778,
              "#fb9f3a"
             ],
             [
              0.8888888888888888,
              "#fdca26"
             ],
             [
              1,
              "#f0f921"
             ]
            ],
            "type": "heatmapgl"
           }
          ],
          "histogram": [
           {
            "marker": {
             "pattern": {
              "fillmode": "overlay",
              "size": 10,
              "solidity": 0.2
             }
            },
            "type": "histogram"
           }
          ],
          "histogram2d": [
           {
            "colorbar": {
             "outlinewidth": 0,
             "ticks": ""
            },
            "colorscale": [
             [
              0,
              "#0d0887"
             ],
             [
              0.1111111111111111,
              "#46039f"
             ],
             [
              0.2222222222222222,
              "#7201a8"
             ],
             [
              0.3333333333333333,
              "#9c179e"
             ],
             [
              0.4444444444444444,
              "#bd3786"
             ],
             [
              0.5555555555555556,
              "#d8576b"
             ],
             [
              0.6666666666666666,
              "#ed7953"
             ],
             [
              0.7777777777777778,
              "#fb9f3a"
             ],
             [
              0.8888888888888888,
              "#fdca26"
             ],
             [
              1,
              "#f0f921"
             ]
            ],
            "type": "histogram2d"
           }
          ],
          "histogram2dcontour": [
           {
            "colorbar": {
             "outlinewidth": 0,
             "ticks": ""
            },
            "colorscale": [
             [
              0,
              "#0d0887"
             ],
             [
              0.1111111111111111,
              "#46039f"
             ],
             [
              0.2222222222222222,
              "#7201a8"
             ],
             [
              0.3333333333333333,
              "#9c179e"
             ],
             [
              0.4444444444444444,
              "#bd3786"
             ],
             [
              0.5555555555555556,
              "#d8576b"
             ],
             [
              0.6666666666666666,
              "#ed7953"
             ],
             [
              0.7777777777777778,
              "#fb9f3a"
             ],
             [
              0.8888888888888888,
              "#fdca26"
             ],
             [
              1,
              "#f0f921"
             ]
            ],
            "type": "histogram2dcontour"
           }
          ],
          "mesh3d": [
           {
            "colorbar": {
             "outlinewidth": 0,
             "ticks": ""
            },
            "type": "mesh3d"
           }
          ],
          "parcoords": [
           {
            "line": {
             "colorbar": {
              "outlinewidth": 0,
              "ticks": ""
             }
            },
            "type": "parcoords"
           }
          ],
          "pie": [
           {
            "automargin": true,
            "type": "pie"
           }
          ],
          "scatter": [
           {
            "fillpattern": {
             "fillmode": "overlay",
             "size": 10,
             "solidity": 0.2
            },
            "type": "scatter"
           }
          ],
          "scatter3d": [
           {
            "line": {
             "colorbar": {
              "outlinewidth": 0,
              "ticks": ""
             }
            },
            "marker": {
             "colorbar": {
              "outlinewidth": 0,
              "ticks": ""
             }
            },
            "type": "scatter3d"
           }
          ],
          "scattercarpet": [
           {
            "marker": {
             "colorbar": {
              "outlinewidth": 0,
              "ticks": ""
             }
            },
            "type": "scattercarpet"
           }
          ],
          "scattergeo": [
           {
            "marker": {
             "colorbar": {
              "outlinewidth": 0,
              "ticks": ""
             }
            },
            "type": "scattergeo"
           }
          ],
          "scattergl": [
           {
            "marker": {
             "colorbar": {
              "outlinewidth": 0,
              "ticks": ""
             }
            },
            "type": "scattergl"
           }
          ],
          "scattermapbox": [
           {
            "marker": {
             "colorbar": {
              "outlinewidth": 0,
              "ticks": ""
             }
            },
            "type": "scattermapbox"
           }
          ],
          "scatterpolar": [
           {
            "marker": {
             "colorbar": {
              "outlinewidth": 0,
              "ticks": ""
             }
            },
            "type": "scatterpolar"
           }
          ],
          "scatterpolargl": [
           {
            "marker": {
             "colorbar": {
              "outlinewidth": 0,
              "ticks": ""
             }
            },
            "type": "scatterpolargl"
           }
          ],
          "scatterternary": [
           {
            "marker": {
             "colorbar": {
              "outlinewidth": 0,
              "ticks": ""
             }
            },
            "type": "scatterternary"
           }
          ],
          "surface": [
           {
            "colorbar": {
             "outlinewidth": 0,
             "ticks": ""
            },
            "colorscale": [
             [
              0,
              "#0d0887"
             ],
             [
              0.1111111111111111,
              "#46039f"
             ],
             [
              0.2222222222222222,
              "#7201a8"
             ],
             [
              0.3333333333333333,
              "#9c179e"
             ],
             [
              0.4444444444444444,
              "#bd3786"
             ],
             [
              0.5555555555555556,
              "#d8576b"
             ],
             [
              0.6666666666666666,
              "#ed7953"
             ],
             [
              0.7777777777777778,
              "#fb9f3a"
             ],
             [
              0.8888888888888888,
              "#fdca26"
             ],
             [
              1,
              "#f0f921"
             ]
            ],
            "type": "surface"
           }
          ],
          "table": [
           {
            "cells": {
             "fill": {
              "color": "#EBF0F8"
             },
             "line": {
              "color": "white"
             }
            },
            "header": {
             "fill": {
              "color": "#C8D4E3"
             },
             "line": {
              "color": "white"
             }
            },
            "type": "table"
           }
          ]
         },
         "layout": {
          "annotationdefaults": {
           "arrowcolor": "#2a3f5f",
           "arrowhead": 0,
           "arrowwidth": 1
          },
          "autotypenumbers": "strict",
          "coloraxis": {
           "colorbar": {
            "outlinewidth": 0,
            "ticks": ""
           }
          },
          "colorscale": {
           "diverging": [
            [
             0,
             "#8e0152"
            ],
            [
             0.1,
             "#c51b7d"
            ],
            [
             0.2,
             "#de77ae"
            ],
            [
             0.3,
             "#f1b6da"
            ],
            [
             0.4,
             "#fde0ef"
            ],
            [
             0.5,
             "#f7f7f7"
            ],
            [
             0.6,
             "#e6f5d0"
            ],
            [
             0.7,
             "#b8e186"
            ],
            [
             0.8,
             "#7fbc41"
            ],
            [
             0.9,
             "#4d9221"
            ],
            [
             1,
             "#276419"
            ]
           ],
           "sequential": [
            [
             0,
             "#0d0887"
            ],
            [
             0.1111111111111111,
             "#46039f"
            ],
            [
             0.2222222222222222,
             "#7201a8"
            ],
            [
             0.3333333333333333,
             "#9c179e"
            ],
            [
             0.4444444444444444,
             "#bd3786"
            ],
            [
             0.5555555555555556,
             "#d8576b"
            ],
            [
             0.6666666666666666,
             "#ed7953"
            ],
            [
             0.7777777777777778,
             "#fb9f3a"
            ],
            [
             0.8888888888888888,
             "#fdca26"
            ],
            [
             1,
             "#f0f921"
            ]
           ],
           "sequentialminus": [
            [
             0,
             "#0d0887"
            ],
            [
             0.1111111111111111,
             "#46039f"
            ],
            [
             0.2222222222222222,
             "#7201a8"
            ],
            [
             0.3333333333333333,
             "#9c179e"
            ],
            [
             0.4444444444444444,
             "#bd3786"
            ],
            [
             0.5555555555555556,
             "#d8576b"
            ],
            [
             0.6666666666666666,
             "#ed7953"
            ],
            [
             0.7777777777777778,
             "#fb9f3a"
            ],
            [
             0.8888888888888888,
             "#fdca26"
            ],
            [
             1,
             "#f0f921"
            ]
           ]
          },
          "colorway": [
           "#636efa",
           "#EF553B",
           "#00cc96",
           "#ab63fa",
           "#FFA15A",
           "#19d3f3",
           "#FF6692",
           "#B6E880",
           "#FF97FF",
           "#FECB52"
          ],
          "font": {
           "color": "#2a3f5f"
          },
          "geo": {
           "bgcolor": "white",
           "lakecolor": "white",
           "landcolor": "#E5ECF6",
           "showlakes": true,
           "showland": true,
           "subunitcolor": "white"
          },
          "hoverlabel": {
           "align": "left"
          },
          "hovermode": "closest",
          "mapbox": {
           "style": "light"
          },
          "paper_bgcolor": "white",
          "plot_bgcolor": "#E5ECF6",
          "polar": {
           "angularaxis": {
            "gridcolor": "white",
            "linecolor": "white",
            "ticks": ""
           },
           "bgcolor": "#E5ECF6",
           "radialaxis": {
            "gridcolor": "white",
            "linecolor": "white",
            "ticks": ""
           }
          },
          "scene": {
           "xaxis": {
            "backgroundcolor": "#E5ECF6",
            "gridcolor": "white",
            "gridwidth": 2,
            "linecolor": "white",
            "showbackground": true,
            "ticks": "",
            "zerolinecolor": "white"
           },
           "yaxis": {
            "backgroundcolor": "#E5ECF6",
            "gridcolor": "white",
            "gridwidth": 2,
            "linecolor": "white",
            "showbackground": true,
            "ticks": "",
            "zerolinecolor": "white"
           },
           "zaxis": {
            "backgroundcolor": "#E5ECF6",
            "gridcolor": "white",
            "gridwidth": 2,
            "linecolor": "white",
            "showbackground": true,
            "ticks": "",
            "zerolinecolor": "white"
           }
          },
          "shapedefaults": {
           "line": {
            "color": "#2a3f5f"
           }
          },
          "ternary": {
           "aaxis": {
            "gridcolor": "white",
            "linecolor": "white",
            "ticks": ""
           },
           "baxis": {
            "gridcolor": "white",
            "linecolor": "white",
            "ticks": ""
           },
           "bgcolor": "#E5ECF6",
           "caxis": {
            "gridcolor": "white",
            "linecolor": "white",
            "ticks": ""
           }
          },
          "title": {
           "x": 0.05
          },
          "xaxis": {
           "automargin": true,
           "gridcolor": "white",
           "linecolor": "white",
           "ticks": "",
           "title": {
            "standoff": 15
           },
           "zerolinecolor": "white",
           "zerolinewidth": 2
          },
          "yaxis": {
           "automargin": true,
           "gridcolor": "white",
           "linecolor": "white",
           "ticks": "",
           "title": {
            "standoff": 15
           },
           "zerolinecolor": "white",
           "zerolinewidth": 2
          }
         }
        },
        "title": {
         "text": "Puestos de trabajo mejor pagados",
         "x": 0.5,
         "xanchor": "center"
        },
        "xaxis": {
         "anchor": "y",
         "domain": [
          0,
          1
         ],
         "title": {
          "text": "Puesto de trabajo"
         }
        },
        "yaxis": {
         "anchor": "x",
         "domain": [
          0,
          1
         ],
         "title": {
          "text": "Salario medio (USD)"
         }
        }
       }
      }
     },
     "metadata": {},
     "output_type": "display_data"
    }
   ],
   "source": [
    "#Grafico interactivo\n",
    "#convertimos los tipos de trabajo en una columna\n",
    "top_10.reset_index(inplace=True)\n",
    "\n",
    "fig = px.bar(top_10, x = 'job_title', y = 'salary_in_usd')\n",
    "fig.update_layout(\n",
    "    title={\n",
    "        'text': \"Puestos de trabajo mejor pagados\",\n",
    "        'x': 0.5,  # Centrar el título\n",
    "        'xanchor': 'center'  # Anclarlo al centro\n",
    "    },\n",
    "    yaxis_title='Salario medio (USD)',\n",
    "    xaxis_title='Puesto de trabajo'\n",
    ")\n",
    "\n",
    "\n",
    "fig.show()\n"
   ]
  },
  {
   "cell_type": "markdown",
   "metadata": {},
   "source": [
    "### ¿Dónde están localizadas las compañias que mas pagan?"
   ]
  },
  {
   "cell_type": "markdown",
   "metadata": {},
   "source": [
    "En este caso, lo que podemos hacer es un grafico que represente el salario medio por país, junto con el numero de empleos en ese país, para poner en contexto los datos.\n"
   ]
  },
  {
   "cell_type": "code",
   "execution_count": 22,
   "metadata": {},
   "outputs": [],
   "source": [
    "#Calculamos el nº de compañias por pais\n",
    "df_counts = pd.DataFrame(df['company_location'].groupby(df['company_location']).agg('count').sort_values(ascending=False))\n",
    "df_counts.rename(columns={'company_location': 'Job count'}, inplace=True)\n",
    "\n",
    "#Calculo la media de salario por pais\n",
    "df_location_pay = df[['company_location', 'salary_in_usd']].groupby('company_location').agg('mean').round(2).sort_values(by='salary_in_usd', ascending=False)\n",
    "\n",
    "#Junto ambos DFs\n",
    "df_plot = pd.concat([ pd.DataFrame(df_counts), df_location_pay], join='inner', axis=1)\n",
    "df_plot.reset_index(inplace=True)"
   ]
  },
  {
   "cell_type": "code",
   "execution_count": 23,
   "metadata": {},
   "outputs": [
    {
     "data": {
      "application/vnd.plotly.v1+json": {
       "config": {
        "plotlyServerURL": "https://plot.ly"
       },
       "data": [
        {
         "customdata": [
          [
           "US"
          ],
          [
           "GB"
          ],
          [
           "CA"
          ],
          [
           "IN"
          ],
          [
           "DE"
          ],
          [
           "ES"
          ],
          [
           "FR"
          ],
          [
           "BR"
          ],
          [
           "PT"
          ],
          [
           "AU"
          ],
          [
           "NL"
          ],
          [
           "GR"
          ],
          [
           "MX"
          ],
          [
           "IE"
          ],
          [
           "AT"
          ],
          [
           "JP"
          ],
          [
           "SG"
          ],
          [
           "PL"
          ],
          [
           "NG"
          ],
          [
           "CH"
          ],
          [
           "TR"
          ],
          [
           "SI"
          ],
          [
           "PR"
          ],
          [
           "IT"
          ],
          [
           "BE"
          ],
          [
           "UA"
          ],
          [
           "CO"
          ],
          [
           "DK"
          ],
          [
           "PK"
          ],
          [
           "LV"
          ],
          [
           "AR"
          ],
          [
           "AE"
          ],
          [
           "RU"
          ],
          [
           "TH"
          ],
          [
           "HR"
          ],
          [
           "AS"
          ],
          [
           "LU"
          ],
          [
           "FI"
          ],
          [
           "CZ"
          ],
          [
           "LT"
          ],
          [
           "EE"
          ],
          [
           "GH"
          ],
          [
           "CF"
          ],
          [
           "RO"
          ],
          [
           "SE"
          ],
          [
           "KE"
          ],
          [
           "HU"
          ],
          [
           "ID"
          ],
          [
           "BA"
          ],
          [
           "AM"
          ],
          [
           "AL"
          ],
          [
           "BO"
          ],
          [
           "CL"
          ],
          [
           "BS"
          ],
          [
           "CR"
          ],
          [
           "DZ"
          ],
          [
           "IQ"
          ],
          [
           "IL"
          ],
          [
           "HN"
          ],
          [
           "HK"
          ],
          [
           "EG"
          ],
          [
           "CN"
          ],
          [
           "IR"
          ],
          [
           "MA"
          ],
          [
           "NZ"
          ],
          [
           "MY"
          ],
          [
           "MK"
          ],
          [
           "MT"
          ],
          [
           "MD"
          ],
          [
           "PH"
          ],
          [
           "SK"
          ],
          [
           "VN"
          ]
         ],
         "hovertemplate": "Job count=%{marker.size}<br>salary_in_usd=%{marker.color}<br>company_location=%{customdata[0]}<extra></extra>",
         "legendgroup": "",
         "marker": {
          "color": [
           149423.61,
           85455.9,
           130572.76,
           30490.81,
           88244.35,
           58224.2,
           66551.03,
           40579.2,
           50538.71,
           80033.43,
           78738.31,
           46814.82,
           97151.1,
           114943.43,
           71354.83,
           114127.33,
           53675,
           61342.8,
           78000,
           81722,
           19058,
           62766.75,
           167500,
           41297.75,
           76864.75,
           57850,
           64961,
           45558,
           20000,
           57946.5,
           25000,
           100000,
           140333.33,
           23064.33,
           75967.67,
           29351,
           43942.67,
           68792.67,
           35200,
           94812,
           47416,
           18500,
           48609,
           56827,
           105000,
           44636,
           26709.5,
           34208,
           120000,
           50000,
           10000,
           7500,
           40038,
           45555,
           50000,
           100000,
           100000,
           119059,
           20000,
           65062,
           22800,
           100000,
           100000,
           10000,
           125000,
           40000,
           6304,
           28369,
           18000,
           50000,
           12608,
           12000
          ],
          "coloraxis": "coloraxis",
          "size": [
           1902,
           154,
           83,
           57,
           55,
           44,
           33,
           15,
           14,
           14,
           13,
           11,
           10,
           7,
           6,
           6,
           6,
           5,
           5,
           5,
           5,
           4,
           4,
           4,
           4,
           4,
           4,
           4,
           4,
           4,
           3,
           3,
           3,
           3,
           3,
           3,
           3,
           3,
           3,
           2,
           2,
           2,
           2,
           2,
           2,
           2,
           2,
           2,
           1,
           1,
           1,
           1,
           1,
           1,
           1,
           1,
           1,
           1,
           1,
           1,
           1,
           1,
           1,
           1,
           1,
           1,
           1,
           1,
           1,
           1,
           1,
           1
          ],
          "sizemode": "area",
          "sizeref": 0.5283333333333333,
          "symbol": "circle"
         },
         "mode": "markers",
         "name": "",
         "orientation": "v",
         "showlegend": false,
         "type": "scatter",
         "x": [
          1902,
          154,
          83,
          57,
          55,
          44,
          33,
          15,
          14,
          14,
          13,
          11,
          10,
          7,
          6,
          6,
          6,
          5,
          5,
          5,
          5,
          4,
          4,
          4,
          4,
          4,
          4,
          4,
          4,
          4,
          3,
          3,
          3,
          3,
          3,
          3,
          3,
          3,
          3,
          2,
          2,
          2,
          2,
          2,
          2,
          2,
          2,
          2,
          1,
          1,
          1,
          1,
          1,
          1,
          1,
          1,
          1,
          1,
          1,
          1,
          1,
          1,
          1,
          1,
          1,
          1,
          1,
          1,
          1,
          1,
          1,
          1
         ],
         "xaxis": "x",
         "y": [
          149423.61,
          85455.9,
          130572.76,
          30490.81,
          88244.35,
          58224.2,
          66551.03,
          40579.2,
          50538.71,
          80033.43,
          78738.31,
          46814.82,
          97151.1,
          114943.43,
          71354.83,
          114127.33,
          53675,
          61342.8,
          78000,
          81722,
          19058,
          62766.75,
          167500,
          41297.75,
          76864.75,
          57850,
          64961,
          45558,
          20000,
          57946.5,
          25000,
          100000,
          140333.33,
          23064.33,
          75967.67,
          29351,
          43942.67,
          68792.67,
          35200,
          94812,
          47416,
          18500,
          48609,
          56827,
          105000,
          44636,
          26709.5,
          34208,
          120000,
          50000,
          10000,
          7500,
          40038,
          45555,
          50000,
          100000,
          100000,
          119059,
          20000,
          65062,
          22800,
          100000,
          100000,
          10000,
          125000,
          40000,
          6304,
          28369,
          18000,
          50000,
          12608,
          12000
         ],
         "yaxis": "y"
        }
       ],
       "layout": {
        "coloraxis": {
         "colorbar": {
          "title": {
           "text": "salary_in_usd"
          }
         },
         "colorscale": [
          [
           0,
           "#0d0887"
          ],
          [
           0.1111111111111111,
           "#46039f"
          ],
          [
           0.2222222222222222,
           "#7201a8"
          ],
          [
           0.3333333333333333,
           "#9c179e"
          ],
          [
           0.4444444444444444,
           "#bd3786"
          ],
          [
           0.5555555555555556,
           "#d8576b"
          ],
          [
           0.6666666666666666,
           "#ed7953"
          ],
          [
           0.7777777777777778,
           "#fb9f3a"
          ],
          [
           0.8888888888888888,
           "#fdca26"
          ],
          [
           1,
           "#f0f921"
          ]
         ]
        },
        "legend": {
         "itemsizing": "constant",
         "tracegroupgap": 0
        },
        "margin": {
         "t": 60
        },
        "template": {
         "data": {
          "bar": [
           {
            "error_x": {
             "color": "#2a3f5f"
            },
            "error_y": {
             "color": "#2a3f5f"
            },
            "marker": {
             "line": {
              "color": "#E5ECF6",
              "width": 0.5
             },
             "pattern": {
              "fillmode": "overlay",
              "size": 10,
              "solidity": 0.2
             }
            },
            "type": "bar"
           }
          ],
          "barpolar": [
           {
            "marker": {
             "line": {
              "color": "#E5ECF6",
              "width": 0.5
             },
             "pattern": {
              "fillmode": "overlay",
              "size": 10,
              "solidity": 0.2
             }
            },
            "type": "barpolar"
           }
          ],
          "carpet": [
           {
            "aaxis": {
             "endlinecolor": "#2a3f5f",
             "gridcolor": "white",
             "linecolor": "white",
             "minorgridcolor": "white",
             "startlinecolor": "#2a3f5f"
            },
            "baxis": {
             "endlinecolor": "#2a3f5f",
             "gridcolor": "white",
             "linecolor": "white",
             "minorgridcolor": "white",
             "startlinecolor": "#2a3f5f"
            },
            "type": "carpet"
           }
          ],
          "choropleth": [
           {
            "colorbar": {
             "outlinewidth": 0,
             "ticks": ""
            },
            "type": "choropleth"
           }
          ],
          "contour": [
           {
            "colorbar": {
             "outlinewidth": 0,
             "ticks": ""
            },
            "colorscale": [
             [
              0,
              "#0d0887"
             ],
             [
              0.1111111111111111,
              "#46039f"
             ],
             [
              0.2222222222222222,
              "#7201a8"
             ],
             [
              0.3333333333333333,
              "#9c179e"
             ],
             [
              0.4444444444444444,
              "#bd3786"
             ],
             [
              0.5555555555555556,
              "#d8576b"
             ],
             [
              0.6666666666666666,
              "#ed7953"
             ],
             [
              0.7777777777777778,
              "#fb9f3a"
             ],
             [
              0.8888888888888888,
              "#fdca26"
             ],
             [
              1,
              "#f0f921"
             ]
            ],
            "type": "contour"
           }
          ],
          "contourcarpet": [
           {
            "colorbar": {
             "outlinewidth": 0,
             "ticks": ""
            },
            "type": "contourcarpet"
           }
          ],
          "heatmap": [
           {
            "colorbar": {
             "outlinewidth": 0,
             "ticks": ""
            },
            "colorscale": [
             [
              0,
              "#0d0887"
             ],
             [
              0.1111111111111111,
              "#46039f"
             ],
             [
              0.2222222222222222,
              "#7201a8"
             ],
             [
              0.3333333333333333,
              "#9c179e"
             ],
             [
              0.4444444444444444,
              "#bd3786"
             ],
             [
              0.5555555555555556,
              "#d8576b"
             ],
             [
              0.6666666666666666,
              "#ed7953"
             ],
             [
              0.7777777777777778,
              "#fb9f3a"
             ],
             [
              0.8888888888888888,
              "#fdca26"
             ],
             [
              1,
              "#f0f921"
             ]
            ],
            "type": "heatmap"
           }
          ],
          "heatmapgl": [
           {
            "colorbar": {
             "outlinewidth": 0,
             "ticks": ""
            },
            "colorscale": [
             [
              0,
              "#0d0887"
             ],
             [
              0.1111111111111111,
              "#46039f"
             ],
             [
              0.2222222222222222,
              "#7201a8"
             ],
             [
              0.3333333333333333,
              "#9c179e"
             ],
             [
              0.4444444444444444,
              "#bd3786"
             ],
             [
              0.5555555555555556,
              "#d8576b"
             ],
             [
              0.6666666666666666,
              "#ed7953"
             ],
             [
              0.7777777777777778,
              "#fb9f3a"
             ],
             [
              0.8888888888888888,
              "#fdca26"
             ],
             [
              1,
              "#f0f921"
             ]
            ],
            "type": "heatmapgl"
           }
          ],
          "histogram": [
           {
            "marker": {
             "pattern": {
              "fillmode": "overlay",
              "size": 10,
              "solidity": 0.2
             }
            },
            "type": "histogram"
           }
          ],
          "histogram2d": [
           {
            "colorbar": {
             "outlinewidth": 0,
             "ticks": ""
            },
            "colorscale": [
             [
              0,
              "#0d0887"
             ],
             [
              0.1111111111111111,
              "#46039f"
             ],
             [
              0.2222222222222222,
              "#7201a8"
             ],
             [
              0.3333333333333333,
              "#9c179e"
             ],
             [
              0.4444444444444444,
              "#bd3786"
             ],
             [
              0.5555555555555556,
              "#d8576b"
             ],
             [
              0.6666666666666666,
              "#ed7953"
             ],
             [
              0.7777777777777778,
              "#fb9f3a"
             ],
             [
              0.8888888888888888,
              "#fdca26"
             ],
             [
              1,
              "#f0f921"
             ]
            ],
            "type": "histogram2d"
           }
          ],
          "histogram2dcontour": [
           {
            "colorbar": {
             "outlinewidth": 0,
             "ticks": ""
            },
            "colorscale": [
             [
              0,
              "#0d0887"
             ],
             [
              0.1111111111111111,
              "#46039f"
             ],
             [
              0.2222222222222222,
              "#7201a8"
             ],
             [
              0.3333333333333333,
              "#9c179e"
             ],
             [
              0.4444444444444444,
              "#bd3786"
             ],
             [
              0.5555555555555556,
              "#d8576b"
             ],
             [
              0.6666666666666666,
              "#ed7953"
             ],
             [
              0.7777777777777778,
              "#fb9f3a"
             ],
             [
              0.8888888888888888,
              "#fdca26"
             ],
             [
              1,
              "#f0f921"
             ]
            ],
            "type": "histogram2dcontour"
           }
          ],
          "mesh3d": [
           {
            "colorbar": {
             "outlinewidth": 0,
             "ticks": ""
            },
            "type": "mesh3d"
           }
          ],
          "parcoords": [
           {
            "line": {
             "colorbar": {
              "outlinewidth": 0,
              "ticks": ""
             }
            },
            "type": "parcoords"
           }
          ],
          "pie": [
           {
            "automargin": true,
            "type": "pie"
           }
          ],
          "scatter": [
           {
            "fillpattern": {
             "fillmode": "overlay",
             "size": 10,
             "solidity": 0.2
            },
            "type": "scatter"
           }
          ],
          "scatter3d": [
           {
            "line": {
             "colorbar": {
              "outlinewidth": 0,
              "ticks": ""
             }
            },
            "marker": {
             "colorbar": {
              "outlinewidth": 0,
              "ticks": ""
             }
            },
            "type": "scatter3d"
           }
          ],
          "scattercarpet": [
           {
            "marker": {
             "colorbar": {
              "outlinewidth": 0,
              "ticks": ""
             }
            },
            "type": "scattercarpet"
           }
          ],
          "scattergeo": [
           {
            "marker": {
             "colorbar": {
              "outlinewidth": 0,
              "ticks": ""
             }
            },
            "type": "scattergeo"
           }
          ],
          "scattergl": [
           {
            "marker": {
             "colorbar": {
              "outlinewidth": 0,
              "ticks": ""
             }
            },
            "type": "scattergl"
           }
          ],
          "scattermapbox": [
           {
            "marker": {
             "colorbar": {
              "outlinewidth": 0,
              "ticks": ""
             }
            },
            "type": "scattermapbox"
           }
          ],
          "scatterpolar": [
           {
            "marker": {
             "colorbar": {
              "outlinewidth": 0,
              "ticks": ""
             }
            },
            "type": "scatterpolar"
           }
          ],
          "scatterpolargl": [
           {
            "marker": {
             "colorbar": {
              "outlinewidth": 0,
              "ticks": ""
             }
            },
            "type": "scatterpolargl"
           }
          ],
          "scatterternary": [
           {
            "marker": {
             "colorbar": {
              "outlinewidth": 0,
              "ticks": ""
             }
            },
            "type": "scatterternary"
           }
          ],
          "surface": [
           {
            "colorbar": {
             "outlinewidth": 0,
             "ticks": ""
            },
            "colorscale": [
             [
              0,
              "#0d0887"
             ],
             [
              0.1111111111111111,
              "#46039f"
             ],
             [
              0.2222222222222222,
              "#7201a8"
             ],
             [
              0.3333333333333333,
              "#9c179e"
             ],
             [
              0.4444444444444444,
              "#bd3786"
             ],
             [
              0.5555555555555556,
              "#d8576b"
             ],
             [
              0.6666666666666666,
              "#ed7953"
             ],
             [
              0.7777777777777778,
              "#fb9f3a"
             ],
             [
              0.8888888888888888,
              "#fdca26"
             ],
             [
              1,
              "#f0f921"
             ]
            ],
            "type": "surface"
           }
          ],
          "table": [
           {
            "cells": {
             "fill": {
              "color": "#EBF0F8"
             },
             "line": {
              "color": "white"
             }
            },
            "header": {
             "fill": {
              "color": "#C8D4E3"
             },
             "line": {
              "color": "white"
             }
            },
            "type": "table"
           }
          ]
         },
         "layout": {
          "annotationdefaults": {
           "arrowcolor": "#2a3f5f",
           "arrowhead": 0,
           "arrowwidth": 1
          },
          "autotypenumbers": "strict",
          "coloraxis": {
           "colorbar": {
            "outlinewidth": 0,
            "ticks": ""
           }
          },
          "colorscale": {
           "diverging": [
            [
             0,
             "#8e0152"
            ],
            [
             0.1,
             "#c51b7d"
            ],
            [
             0.2,
             "#de77ae"
            ],
            [
             0.3,
             "#f1b6da"
            ],
            [
             0.4,
             "#fde0ef"
            ],
            [
             0.5,
             "#f7f7f7"
            ],
            [
             0.6,
             "#e6f5d0"
            ],
            [
             0.7,
             "#b8e186"
            ],
            [
             0.8,
             "#7fbc41"
            ],
            [
             0.9,
             "#4d9221"
            ],
            [
             1,
             "#276419"
            ]
           ],
           "sequential": [
            [
             0,
             "#0d0887"
            ],
            [
             0.1111111111111111,
             "#46039f"
            ],
            [
             0.2222222222222222,
             "#7201a8"
            ],
            [
             0.3333333333333333,
             "#9c179e"
            ],
            [
             0.4444444444444444,
             "#bd3786"
            ],
            [
             0.5555555555555556,
             "#d8576b"
            ],
            [
             0.6666666666666666,
             "#ed7953"
            ],
            [
             0.7777777777777778,
             "#fb9f3a"
            ],
            [
             0.8888888888888888,
             "#fdca26"
            ],
            [
             1,
             "#f0f921"
            ]
           ],
           "sequentialminus": [
            [
             0,
             "#0d0887"
            ],
            [
             0.1111111111111111,
             "#46039f"
            ],
            [
             0.2222222222222222,
             "#7201a8"
            ],
            [
             0.3333333333333333,
             "#9c179e"
            ],
            [
             0.4444444444444444,
             "#bd3786"
            ],
            [
             0.5555555555555556,
             "#d8576b"
            ],
            [
             0.6666666666666666,
             "#ed7953"
            ],
            [
             0.7777777777777778,
             "#fb9f3a"
            ],
            [
             0.8888888888888888,
             "#fdca26"
            ],
            [
             1,
             "#f0f921"
            ]
           ]
          },
          "colorway": [
           "#636efa",
           "#EF553B",
           "#00cc96",
           "#ab63fa",
           "#FFA15A",
           "#19d3f3",
           "#FF6692",
           "#B6E880",
           "#FF97FF",
           "#FECB52"
          ],
          "font": {
           "color": "#2a3f5f"
          },
          "geo": {
           "bgcolor": "white",
           "lakecolor": "white",
           "landcolor": "#E5ECF6",
           "showlakes": true,
           "showland": true,
           "subunitcolor": "white"
          },
          "hoverlabel": {
           "align": "left"
          },
          "hovermode": "closest",
          "mapbox": {
           "style": "light"
          },
          "paper_bgcolor": "white",
          "plot_bgcolor": "#E5ECF6",
          "polar": {
           "angularaxis": {
            "gridcolor": "white",
            "linecolor": "white",
            "ticks": ""
           },
           "bgcolor": "#E5ECF6",
           "radialaxis": {
            "gridcolor": "white",
            "linecolor": "white",
            "ticks": ""
           }
          },
          "scene": {
           "xaxis": {
            "backgroundcolor": "#E5ECF6",
            "gridcolor": "white",
            "gridwidth": 2,
            "linecolor": "white",
            "showbackground": true,
            "ticks": "",
            "zerolinecolor": "white"
           },
           "yaxis": {
            "backgroundcolor": "#E5ECF6",
            "gridcolor": "white",
            "gridwidth": 2,
            "linecolor": "white",
            "showbackground": true,
            "ticks": "",
            "zerolinecolor": "white"
           },
           "zaxis": {
            "backgroundcolor": "#E5ECF6",
            "gridcolor": "white",
            "gridwidth": 2,
            "linecolor": "white",
            "showbackground": true,
            "ticks": "",
            "zerolinecolor": "white"
           }
          },
          "shapedefaults": {
           "line": {
            "color": "#2a3f5f"
           }
          },
          "ternary": {
           "aaxis": {
            "gridcolor": "white",
            "linecolor": "white",
            "ticks": ""
           },
           "baxis": {
            "gridcolor": "white",
            "linecolor": "white",
            "ticks": ""
           },
           "bgcolor": "#E5ECF6",
           "caxis": {
            "gridcolor": "white",
            "linecolor": "white",
            "ticks": ""
           }
          },
          "title": {
           "x": 0.05
          },
          "xaxis": {
           "automargin": true,
           "gridcolor": "white",
           "linecolor": "white",
           "ticks": "",
           "title": {
            "standoff": 15
           },
           "zerolinecolor": "white",
           "zerolinewidth": 2
          },
          "yaxis": {
           "automargin": true,
           "gridcolor": "white",
           "linecolor": "white",
           "ticks": "",
           "title": {
            "standoff": 15
           },
           "zerolinecolor": "white",
           "zerolinewidth": 2
          }
         }
        },
        "title": {
         "text": "Distribución del salario por paises",
         "x": 0.5,
         "xanchor": "center"
        },
        "xaxis": {
         "anchor": "y",
         "domain": [
          0,
          1
         ],
         "title": {
          "text": "Total de trabadores"
         },
         "type": "log"
        },
        "yaxis": {
         "anchor": "x",
         "domain": [
          0,
          1
         ],
         "title": {
          "text": "Salario medio (USD)"
         }
        }
       }
      }
     },
     "metadata": {},
     "output_type": "display_data"
    }
   ],
   "source": [
    "#Construimos el grafico\n",
    "fig = px.scatter(df_plot, x=\"Job count\", y=\"salary_in_usd\", color=\"salary_in_usd\",  size=\"Job count\",\n",
    "                hover_data=['company_location'], log_x=True, size_max=60) \n",
    "\n",
    "\n",
    "fig.update_layout(\n",
    "    title={\n",
    "        'text': \"Distribución del salario por paises\",\n",
    "        'x': 0.5,  # Centrar el título\n",
    "        'xanchor': 'center'  # Anclarlo al centro\n",
    "    },\n",
    "    yaxis_title='Salario medio (USD)',\n",
    "    xaxis_title='Total de trabadores'\n",
    ")\n",
    "fig.show()"
   ]
  },
  {
   "cell_type": "markdown",
   "metadata": {},
   "source": [
    "### ¿Cuál es el tipo de empleo que permite mas trabajo remoto?"
   ]
  },
  {
   "cell_type": "code",
   "execution_count": 24,
   "metadata": {},
   "outputs": [],
   "source": [
    "#Quedarse con los puestos de trabajo con al menos 10 instancias\n",
    "job_counts = df['job_title'].groupby(df['job_title']).transform('count')\n",
    "\n",
    "df_job10 = df[job_counts >= 10]\n"
   ]
  },
  {
   "cell_type": "code",
   "execution_count": 25,
   "metadata": {},
   "outputs": [
    {
     "data": {
      "text/html": [
       "<div>\n",
       "<style scoped>\n",
       "    .dataframe tbody tr th:only-of-type {\n",
       "        vertical-align: middle;\n",
       "    }\n",
       "\n",
       "    .dataframe tbody tr th {\n",
       "        vertical-align: top;\n",
       "    }\n",
       "\n",
       "    .dataframe thead th {\n",
       "        text-align: right;\n",
       "    }\n",
       "</style>\n",
       "<table border=\"1\" class=\"dataframe\">\n",
       "  <thead>\n",
       "    <tr style=\"text-align: right;\">\n",
       "      <th></th>\n",
       "      <th>remote_ratio</th>\n",
       "      <th>job_count</th>\n",
       "    </tr>\n",
       "    <tr>\n",
       "      <th>job_title</th>\n",
       "      <th></th>\n",
       "      <th></th>\n",
       "    </tr>\n",
       "  </thead>\n",
       "  <tbody>\n",
       "    <tr>\n",
       "      <th>Data Engineer</th>\n",
       "      <td>49.244966</td>\n",
       "      <td>596</td>\n",
       "    </tr>\n",
       "    <tr>\n",
       "      <th>Data Scientist</th>\n",
       "      <td>48.127341</td>\n",
       "      <td>534</td>\n",
       "    </tr>\n",
       "    <tr>\n",
       "      <th>Data Analyst</th>\n",
       "      <td>51.269036</td>\n",
       "      <td>394</td>\n",
       "    </tr>\n",
       "    <tr>\n",
       "      <th>Machine Learning Engineer</th>\n",
       "      <td>48.275862</td>\n",
       "      <td>203</td>\n",
       "    </tr>\n",
       "    <tr>\n",
       "      <th>Analytics Engineer</th>\n",
       "      <td>56.043956</td>\n",
       "      <td>91</td>\n",
       "    </tr>\n",
       "  </tbody>\n",
       "</table>\n",
       "</div>"
      ],
      "text/plain": [
       "                           remote_ratio  job_count\n",
       "job_title                                         \n",
       "Data Engineer                 49.244966        596\n",
       "Data Scientist                48.127341        534\n",
       "Data Analyst                  51.269036        394\n",
       "Machine Learning Engineer     48.275862        203\n",
       "Analytics Engineer            56.043956         91"
      ]
     },
     "execution_count": 25,
     "metadata": {},
     "output_type": "execute_result"
    }
   ],
   "source": [
    "#Calculo el porcentaje de trabajo remoto para cada empleo, y el numero de empleados en ese puesto\n",
    "df_remote = df_job10[['job_title', 'remote_ratio']].groupby('job_title').agg('mean')\n",
    "df_count = df_job10[['job_title', 'remote_ratio']].groupby('job_title').agg('count').rename(columns={'remote_ratio':'job_count'})\n",
    "df_join = pd.merge(df_remote, df_count, how='inner', on= 'job_title').sort_values(by='remote_ratio', ascending=False)\n",
    "df_join.sort_values(by='job_count', ascending=False).head()"
   ]
  },
  {
   "cell_type": "code",
   "execution_count": 26,
   "metadata": {},
   "outputs": [],
   "source": [
    "#Aqui calculo, para cada puesto, cuantos trabajan 100% remoto, cuantos 50% y cuantos 0%\n",
    "df_100= df[['job_title' , 'remote_ratio']][df['remote_ratio'] == 100]\n",
    "df_50= df[['job_title' , 'remote_ratio']][df['remote_ratio'] == 50]\n",
    "df_0= df[['job_title' , 'remote_ratio']][df['remote_ratio'] == 0]\n",
    "\n",
    "df_100 =df_100.groupby('job_title').agg('count').rename(columns={'remote_ratio':'100_remote'})\n",
    "df_50 =df_50.groupby('job_title').agg('count').rename(columns={'remote_ratio':'50_remote'})\n",
    "df_0 = df_0.groupby('job_title').agg('count').rename(columns={'remote_ratio':'0_remote'})\n",
    "\n",
    "df_remote = pd.merge(df_100, df_50, how = 'inner', on='job_title')\n",
    "df_remote = pd.merge(df_remote, df_0, how = 'inner', on='job_title')\n"
   ]
  },
  {
   "cell_type": "code",
   "execution_count": 27,
   "metadata": {},
   "outputs": [
    {
     "data": {
      "text/html": [
       "<div>\n",
       "<style scoped>\n",
       "    .dataframe tbody tr th:only-of-type {\n",
       "        vertical-align: middle;\n",
       "    }\n",
       "\n",
       "    .dataframe tbody tr th {\n",
       "        vertical-align: top;\n",
       "    }\n",
       "\n",
       "    .dataframe thead th {\n",
       "        text-align: right;\n",
       "    }\n",
       "</style>\n",
       "<table border=\"1\" class=\"dataframe\">\n",
       "  <thead>\n",
       "    <tr style=\"text-align: right;\">\n",
       "      <th></th>\n",
       "      <th>remote_ratio</th>\n",
       "      <th>job_count</th>\n",
       "      <th>100_remote</th>\n",
       "      <th>50_remote</th>\n",
       "      <th>0_remote</th>\n",
       "    </tr>\n",
       "    <tr>\n",
       "      <th>job_title</th>\n",
       "      <th></th>\n",
       "      <th></th>\n",
       "      <th></th>\n",
       "      <th></th>\n",
       "      <th></th>\n",
       "    </tr>\n",
       "  </thead>\n",
       "  <tbody>\n",
       "    <tr>\n",
       "      <th>Data Engineer</th>\n",
       "      <td>49.244966</td>\n",
       "      <td>596</td>\n",
       "      <td>47.82</td>\n",
       "      <td>2.85</td>\n",
       "      <td>49.33</td>\n",
       "    </tr>\n",
       "    <tr>\n",
       "      <th>Data Scientist</th>\n",
       "      <td>48.127341</td>\n",
       "      <td>534</td>\n",
       "      <td>44.01</td>\n",
       "      <td>8.24</td>\n",
       "      <td>47.75</td>\n",
       "    </tr>\n",
       "    <tr>\n",
       "      <th>Data Analyst</th>\n",
       "      <td>51.269036</td>\n",
       "      <td>394</td>\n",
       "      <td>49.24</td>\n",
       "      <td>4.06</td>\n",
       "      <td>46.70</td>\n",
       "    </tr>\n",
       "    <tr>\n",
       "      <th>Machine Learning Engineer</th>\n",
       "      <td>48.275862</td>\n",
       "      <td>203</td>\n",
       "      <td>43.84</td>\n",
       "      <td>8.87</td>\n",
       "      <td>47.29</td>\n",
       "    </tr>\n",
       "    <tr>\n",
       "      <th>Analytics Engineer</th>\n",
       "      <td>56.043956</td>\n",
       "      <td>91</td>\n",
       "      <td>54.95</td>\n",
       "      <td>2.20</td>\n",
       "      <td>42.86</td>\n",
       "    </tr>\n",
       "  </tbody>\n",
       "</table>\n",
       "</div>"
      ],
      "text/plain": [
       "                           remote_ratio  job_count  100_remote  50_remote  \\\n",
       "job_title                                                                   \n",
       "Data Engineer                 49.244966        596       47.82       2.85   \n",
       "Data Scientist                48.127341        534       44.01       8.24   \n",
       "Data Analyst                  51.269036        394       49.24       4.06   \n",
       "Machine Learning Engineer     48.275862        203       43.84       8.87   \n",
       "Analytics Engineer            56.043956         91       54.95       2.20   \n",
       "\n",
       "                           0_remote  \n",
       "job_title                            \n",
       "Data Engineer                 49.33  \n",
       "Data Scientist                47.75  \n",
       "Data Analyst                  46.70  \n",
       "Machine Learning Engineer     47.29  \n",
       "Analytics Engineer            42.86  "
      ]
     },
     "execution_count": 27,
     "metadata": {},
     "output_type": "execute_result"
    }
   ],
   "source": [
    "#Por ultimo, saco el porcentaje de trabajadores que tienen 100, 50 y 0% de remoto respectivamente\n",
    "df_all = pd.merge(df_join, df_remote, how='inner', on='job_title')\n",
    "\n",
    "df_all['100_remote'] = (df_all['100_remote'] /df_all['job_count'] *100).round(2)\n",
    "df_all['50_remote'] = (df_all['50_remote'] /df_all['job_count'] *100).round(2)\n",
    "df_all['0_remote'] = (df_all['0_remote'] /df_all['job_count'] *100).round(2)\n",
    "\n",
    "df_all.sort_values(by='job_count', ascending=False).head()\n"
   ]
  },
  {
   "cell_type": "markdown",
   "metadata": {},
   "source": [
    "Para representar estos datos hacemos un grafico de barras apiladas que muestra, para cada puesto de trabajo, el porcentage de trabajadores que tiene cada modo de trabajo remoto (0%, 50%, 100%). "
   ]
  },
  {
   "cell_type": "code",
   "execution_count": 28,
   "metadata": {},
   "outputs": [
    {
     "data": {
      "image/png": "[encoded data removed]",
      "text/plain": [
       "<Figure size 1500x500 with 1 Axes>"
      ]
     },
     "metadata": {},
     "output_type": "display_data"
    }
   ],
   "source": [
    "\n",
    "# Crear un gráfico de barras apiladas\n",
    "df_all[['100_remote', '50_remote', '0_remote']].plot(kind='bar', stacked=True, figsize=(15, 5))\n",
    "\n",
    "plt.xlabel('Puesto de trabajo')\n",
    "plt.ylabel('Porcentaje de trabajo remoto')\n",
    "plt.title('Distribución de trabajo remoto por puesto de trabajo')\n",
    "plt.xticks(rotation=90)\n",
    "plt.show()"
   ]
  },
  {
   "cell_type": "code",
   "execution_count": 29,
   "metadata": {},
   "outputs": [
    {
     "data": {
      "application/vnd.plotly.v1+json": {
       "config": {
        "plotlyServerURL": "https://plot.ly"
       },
       "data": [
        {
         "marker": {
          "color": "blue"
         },
         "name": "100% remoto",
         "type": "bar",
         "x": [
          "Applied Machine Learning Scientist",
          "AI Scientist",
          "BI Data Analyst",
          "Business Data Analyst",
          "ML Engineer",
          "Big Data Engineer",
          "Analytics Engineer",
          "Data Science Manager",
          "Data Analyst",
          "Machine Learning Infrastructure Engineer",
          "Data Engineer",
          "Machine Learning Engineer",
          "Data Scientist",
          "Machine Learning Scientist",
          "Computer Vision Engineer",
          "Research Scientist",
          "AI Developer",
          "Data Science Consultant",
          "Data Manager"
         ],
         "y": [
          72.73,
          66.67,
          60,
          53.33,
          64.71,
          45.45,
          54.95,
          50,
          49.24,
          45.45,
          47.82,
          43.84,
          44.01,
          38.46,
          35.29,
          25.81,
          18.18,
          17.39,
          17.39
         ]
        },
        {
         "marker": {
          "color": "orange"
         },
         "name": "50% remoto",
         "type": "bar",
         "x": [
          "Applied Machine Learning Scientist",
          "AI Scientist",
          "BI Data Analyst",
          "Business Data Analyst",
          "ML Engineer",
          "Big Data Engineer",
          "Analytics Engineer",
          "Data Science Manager",
          "Data Analyst",
          "Machine Learning Infrastructure Engineer",
          "Data Engineer",
          "Machine Learning Engineer",
          "Data Scientist",
          "Machine Learning Scientist",
          "Computer Vision Engineer",
          "Research Scientist",
          "AI Developer",
          "Data Science Consultant",
          "Data Manager"
         ],
         "y": [
          18.18,
          20,
          26.67,
          33.33,
          5.88,
          27.27,
          2.2,
          3.85,
          4.06,
          9.09,
          2.85,
          8.87,
          8.24,
          11.54,
          5.88,
          17.74,
          27.27,
          21.74,
          4.35
         ]
        },
        {
         "marker": {
          "color": "green"
         },
         "name": "0% remoto",
         "type": "bar",
         "x": [
          "Applied Machine Learning Scientist",
          "AI Scientist",
          "BI Data Analyst",
          "Business Data Analyst",
          "ML Engineer",
          "Big Data Engineer",
          "Analytics Engineer",
          "Data Science Manager",
          "Data Analyst",
          "Machine Learning Infrastructure Engineer",
          "Data Engineer",
          "Machine Learning Engineer",
          "Data Scientist",
          "Machine Learning Scientist",
          "Computer Vision Engineer",
          "Research Scientist",
          "AI Developer",
          "Data Science Consultant",
          "Data Manager"
         ],
         "y": [
          9.09,
          13.33,
          13.33,
          13.33,
          29.41,
          27.27,
          42.86,
          46.15,
          46.7,
          45.45,
          49.33,
          47.29,
          47.75,
          50,
          58.82,
          56.45,
          54.55,
          60.87,
          78.26
         ]
        }
       ],
       "layout": {
        "barmode": "stack",
        "height": 600,
        "template": {
         "data": {
          "bar": [
           {
            "error_x": {
             "color": "#2a3f5f"
            },
            "error_y": {
             "color": "#2a3f5f"
            },
            "marker": {
             "line": {
              "color": "#E5ECF6",
              "width": 0.5
             },
             "pattern": {
              "fillmode": "overlay",
              "size": 10,
              "solidity": 0.2
             }
            },
            "type": "bar"
           }
          ],
          "barpolar": [
           {
            "marker": {
             "line": {
              "color": "#E5ECF6",
              "width": 0.5
             },
             "pattern": {
              "fillmode": "overlay",
              "size": 10,
              "solidity": 0.2
             }
            },
            "type": "barpolar"
           }
          ],
          "carpet": [
           {
            "aaxis": {
             "endlinecolor": "#2a3f5f",
             "gridcolor": "white",
             "linecolor": "white",
             "minorgridcolor": "white",
             "startlinecolor": "#2a3f5f"
            },
            "baxis": {
             "endlinecolor": "#2a3f5f",
             "gridcolor": "white",
             "linecolor": "white",
             "minorgridcolor": "white",
             "startlinecolor": "#2a3f5f"
            },
            "type": "carpet"
           }
          ],
          "choropleth": [
           {
            "colorbar": {
             "outlinewidth": 0,
             "ticks": ""
            },
            "type": "choropleth"
           }
          ],
          "contour": [
           {
            "colorbar": {
             "outlinewidth": 0,
             "ticks": ""
            },
            "colorscale": [
             [
              0,
              "#0d0887"
             ],
             [
              0.1111111111111111,
              "#46039f"
             ],
             [
              0.2222222222222222,
              "#7201a8"
             ],
             [
              0.3333333333333333,
              "#9c179e"
             ],
             [
              0.4444444444444444,
              "#bd3786"
             ],
             [
              0.5555555555555556,
              "#d8576b"
             ],
             [
              0.6666666666666666,
              "#ed7953"
             ],
             [
              0.7777777777777778,
              "#fb9f3a"
             ],
             [
              0.8888888888888888,
              "#fdca26"
             ],
             [
              1,
              "#f0f921"
             ]
            ],
            "type": "contour"
           }
          ],
          "contourcarpet": [
           {
            "colorbar": {
             "outlinewidth": 0,
             "ticks": ""
            },
            "type": "contourcarpet"
           }
          ],
          "heatmap": [
           {
            "colorbar": {
             "outlinewidth": 0,
             "ticks": ""
            },
            "colorscale": [
             [
              0,
              "#0d0887"
             ],
             [
              0.1111111111111111,
              "#46039f"
             ],
             [
              0.2222222222222222,
              "#7201a8"
             ],
             [
              0.3333333333333333,
              "#9c179e"
             ],
             [
              0.4444444444444444,
              "#bd3786"
             ],
             [
              0.5555555555555556,
              "#d8576b"
             ],
             [
              0.6666666666666666,
              "#ed7953"
             ],
             [
              0.7777777777777778,
              "#fb9f3a"
             ],
             [
              0.8888888888888888,
              "#fdca26"
             ],
             [
              1,
              "#f0f921"
             ]
            ],
            "type": "heatmap"
           }
          ],
          "heatmapgl": [
           {
            "colorbar": {
             "outlinewidth": 0,
             "ticks": ""
            },
            "colorscale": [
             [
              0,
              "#0d0887"
             ],
             [
              0.1111111111111111,
              "#46039f"
             ],
             [
              0.2222222222222222,
              "#7201a8"
             ],
             [
              0.3333333333333333,
              "#9c179e"
             ],
             [
              0.4444444444444444,
              "#bd3786"
             ],
             [
              0.5555555555555556,
              "#d8576b"
             ],
             [
              0.6666666666666666,
              "#ed7953"
             ],
             [
              0.7777777777777778,
              "#fb9f3a"
             ],
             [
              0.8888888888888888,
              "#fdca26"
             ],
             [
              1,
              "#f0f921"
             ]
            ],
            "type": "heatmapgl"
           }
          ],
          "histogram": [
           {
            "marker": {
             "pattern": {
              "fillmode": "overlay",
              "size": 10,
              "solidity": 0.2
             }
            },
            "type": "histogram"
           }
          ],
          "histogram2d": [
           {
            "colorbar": {
             "outlinewidth": 0,
             "ticks": ""
            },
            "colorscale": [
             [
              0,
              "#0d0887"
             ],
             [
              0.1111111111111111,
              "#46039f"
             ],
             [
              0.2222222222222222,
              "#7201a8"
             ],
             [
              0.3333333333333333,
              "#9c179e"
             ],
             [
              0.4444444444444444,
              "#bd3786"
             ],
             [
              0.5555555555555556,
              "#d8576b"
             ],
             [
              0.6666666666666666,
              "#ed7953"
             ],
             [
              0.7777777777777778,
              "#fb9f3a"
             ],
             [
              0.8888888888888888,
              "#fdca26"
             ],
             [
              1,
              "#f0f921"
             ]
            ],
            "type": "histogram2d"
           }
          ],
          "histogram2dcontour": [
           {
            "colorbar": {
             "outlinewidth": 0,
             "ticks": ""
            },
            "colorscale": [
             [
              0,
              "#0d0887"
             ],
             [
              0.1111111111111111,
              "#46039f"
             ],
             [
              0.2222222222222222,
              "#7201a8"
             ],
             [
              0.3333333333333333,
              "#9c179e"
             ],
             [
              0.4444444444444444,
              "#bd3786"
             ],
             [
              0.5555555555555556,
              "#d8576b"
             ],
             [
              0.6666666666666666,
              "#ed7953"
             ],
             [
              0.7777777777777778,
              "#fb9f3a"
             ],
             [
              0.8888888888888888,
              "#fdca26"
             ],
             [
              1,
              "#f0f921"
             ]
            ],
            "type": "histogram2dcontour"
           }
          ],
          "mesh3d": [
           {
            "colorbar": {
             "outlinewidth": 0,
             "ticks": ""
            },
            "type": "mesh3d"
           }
          ],
          "parcoords": [
           {
            "line": {
             "colorbar": {
              "outlinewidth": 0,
              "ticks": ""
             }
            },
            "type": "parcoords"
           }
          ],
          "pie": [
           {
            "automargin": true,
            "type": "pie"
           }
          ],
          "scatter": [
           {
            "fillpattern": {
             "fillmode": "overlay",
             "size": 10,
             "solidity": 0.2
            },
            "type": "scatter"
           }
          ],
          "scatter3d": [
           {
            "line": {
             "colorbar": {
              "outlinewidth": 0,
              "ticks": ""
             }
            },
            "marker": {
             "colorbar": {
              "outlinewidth": 0,
              "ticks": ""
             }
            },
            "type": "scatter3d"
           }
          ],
          "scattercarpet": [
           {
            "marker": {
             "colorbar": {
              "outlinewidth": 0,
              "ticks": ""
             }
            },
            "type": "scattercarpet"
           }
          ],
          "scattergeo": [
           {
            "marker": {
             "colorbar": {
              "outlinewidth": 0,
              "ticks": ""
             }
            },
            "type": "scattergeo"
           }
          ],
          "scattergl": [
           {
            "marker": {
             "colorbar": {
              "outlinewidth": 0,
              "ticks": ""
             }
            },
            "type": "scattergl"
           }
          ],
          "scattermapbox": [
           {
            "marker": {
             "colorbar": {
              "outlinewidth": 0,
              "ticks": ""
             }
            },
            "type": "scattermapbox"
           }
          ],
          "scatterpolar": [
           {
            "marker": {
             "colorbar": {
              "outlinewidth": 0,
              "ticks": ""
             }
            },
            "type": "scatterpolar"
           }
          ],
          "scatterpolargl": [
           {
            "marker": {
             "colorbar": {
              "outlinewidth": 0,
              "ticks": ""
             }
            },
            "type": "scatterpolargl"
           }
          ],
          "scatterternary": [
           {
            "marker": {
             "colorbar": {
              "outlinewidth": 0,
              "ticks": ""
             }
            },
            "type": "scatterternary"
           }
          ],
          "surface": [
           {
            "colorbar": {
             "outlinewidth": 0,
             "ticks": ""
            },
            "colorscale": [
             [
              0,
              "#0d0887"
             ],
             [
              0.1111111111111111,
              "#46039f"
             ],
             [
              0.2222222222222222,
              "#7201a8"
             ],
             [
              0.3333333333333333,
              "#9c179e"
             ],
             [
              0.4444444444444444,
              "#bd3786"
             ],
             [
              0.5555555555555556,
              "#d8576b"
             ],
             [
              0.6666666666666666,
              "#ed7953"
             ],
             [
              0.7777777777777778,
              "#fb9f3a"
             ],
             [
              0.8888888888888888,
              "#fdca26"
             ],
             [
              1,
              "#f0f921"
             ]
            ],
            "type": "surface"
           }
          ],
          "table": [
           {
            "cells": {
             "fill": {
              "color": "#EBF0F8"
             },
             "line": {
              "color": "white"
             }
            },
            "header": {
             "fill": {
              "color": "#C8D4E3"
             },
             "line": {
              "color": "white"
             }
            },
            "type": "table"
           }
          ]
         },
         "layout": {
          "annotationdefaults": {
           "arrowcolor": "#2a3f5f",
           "arrowhead": 0,
           "arrowwidth": 1
          },
          "autotypenumbers": "strict",
          "coloraxis": {
           "colorbar": {
            "outlinewidth": 0,
            "ticks": ""
           }
          },
          "colorscale": {
           "diverging": [
            [
             0,
             "#8e0152"
            ],
            [
             0.1,
             "#c51b7d"
            ],
            [
             0.2,
             "#de77ae"
            ],
            [
             0.3,
             "#f1b6da"
            ],
            [
             0.4,
             "#fde0ef"
            ],
            [
             0.5,
             "#f7f7f7"
            ],
            [
             0.6,
             "#e6f5d0"
            ],
            [
             0.7,
             "#b8e186"
            ],
            [
             0.8,
             "#7fbc41"
            ],
            [
             0.9,
             "#4d9221"
            ],
            [
             1,
             "#276419"
            ]
           ],
           "sequential": [
            [
             0,
             "#0d0887"
            ],
            [
             0.1111111111111111,
             "#46039f"
            ],
            [
             0.2222222222222222,
             "#7201a8"
            ],
            [
             0.3333333333333333,
             "#9c179e"
            ],
            [
             0.4444444444444444,
             "#bd3786"
            ],
            [
             0.5555555555555556,
             "#d8576b"
            ],
            [
             0.6666666666666666,
             "#ed7953"
            ],
            [
             0.7777777777777778,
             "#fb9f3a"
            ],
            [
             0.8888888888888888,
             "#fdca26"
            ],
            [
             1,
             "#f0f921"
            ]
           ],
           "sequentialminus": [
            [
             0,
             "#0d0887"
            ],
            [
             0.1111111111111111,
             "#46039f"
            ],
            [
             0.2222222222222222,
             "#7201a8"
            ],
            [
             0.3333333333333333,
             "#9c179e"
            ],
            [
             0.4444444444444444,
             "#bd3786"
            ],
            [
             0.5555555555555556,
             "#d8576b"
            ],
            [
             0.6666666666666666,
             "#ed7953"
            ],
            [
             0.7777777777777778,
             "#fb9f3a"
            ],
            [
             0.8888888888888888,
             "#fdca26"
            ],
            [
             1,
             "#f0f921"
            ]
           ]
          },
          "colorway": [
           "#636efa",
           "#EF553B",
           "#00cc96",
           "#ab63fa",
           "#FFA15A",
           "#19d3f3",
           "#FF6692",
           "#B6E880",
           "#FF97FF",
           "#FECB52"
          ],
          "font": {
           "color": "#2a3f5f"
          },
          "geo": {
           "bgcolor": "white",
           "lakecolor": "white",
           "landcolor": "#E5ECF6",
           "showlakes": true,
           "showland": true,
           "subunitcolor": "white"
          },
          "hoverlabel": {
           "align": "left"
          },
          "hovermode": "closest",
          "mapbox": {
           "style": "light"
          },
          "paper_bgcolor": "white",
          "plot_bgcolor": "#E5ECF6",
          "polar": {
           "angularaxis": {
            "gridcolor": "white",
            "linecolor": "white",
            "ticks": ""
           },
           "bgcolor": "#E5ECF6",
           "radialaxis": {
            "gridcolor": "white",
            "linecolor": "white",
            "ticks": ""
           }
          },
          "scene": {
           "xaxis": {
            "backgroundcolor": "#E5ECF6",
            "gridcolor": "white",
            "gridwidth": 2,
            "linecolor": "white",
            "showbackground": true,
            "ticks": "",
            "zerolinecolor": "white"
           },
           "yaxis": {
            "backgroundcolor": "#E5ECF6",
            "gridcolor": "white",
            "gridwidth": 2,
            "linecolor": "white",
            "showbackground": true,
            "ticks": "",
            "zerolinecolor": "white"
           },
           "zaxis": {
            "backgroundcolor": "#E5ECF6",
            "gridcolor": "white",
            "gridwidth": 2,
            "linecolor": "white",
            "showbackground": true,
            "ticks": "",
            "zerolinecolor": "white"
           }
          },
          "shapedefaults": {
           "line": {
            "color": "#2a3f5f"
           }
          },
          "ternary": {
           "aaxis": {
            "gridcolor": "white",
            "linecolor": "white",
            "ticks": ""
           },
           "baxis": {
            "gridcolor": "white",
            "linecolor": "white",
            "ticks": ""
           },
           "bgcolor": "#E5ECF6",
           "caxis": {
            "gridcolor": "white",
            "linecolor": "white",
            "ticks": ""
           }
          },
          "title": {
           "x": 0.05
          },
          "xaxis": {
           "automargin": true,
           "gridcolor": "white",
           "linecolor": "white",
           "ticks": "",
           "title": {
            "standoff": 15
           },
           "zerolinecolor": "white",
           "zerolinewidth": 2
          },
          "yaxis": {
           "automargin": true,
           "gridcolor": "white",
           "linecolor": "white",
           "ticks": "",
           "title": {
            "standoff": 15
           },
           "zerolinecolor": "white",
           "zerolinewidth": 2
          }
         }
        },
        "title": {
         "text": "Distribución de trabajo remoto por puesto de trabajo",
         "x": 0.5,
         "xanchor": "center"
        },
        "width": 1000,
        "xaxis": {
         "tickangle": -90,
         "title": {
          "text": "Puesto de trabajo"
         }
        },
        "yaxis": {
         "title": {
          "text": "Porcentaje de trabajo remoto"
         }
        }
       }
      }
     },
     "metadata": {},
     "output_type": "display_data"
    }
   ],
   "source": [
    "#Grafico interactivo\n",
    "\n",
    "# Crear las trazas para cada categoría (100% remoto, 50% remoto y 0% remoto)\n",
    "fig = go.Figure()\n",
    "\n",
    "fig.add_trace(go.Bar(\n",
    "    x=df_all.index,\n",
    "    y=df_all['100_remote'],\n",
    "    name='100% remoto',\n",
    "    marker_color='blue'\n",
    "))\n",
    "\n",
    "fig.add_trace(go.Bar(\n",
    "    x=df_all.index,\n",
    "    y=df_all['50_remote'],\n",
    "    name='50% remoto',\n",
    "    marker_color='orange'\n",
    "))\n",
    "\n",
    "fig.add_trace(go.Bar(\n",
    "    x=df_all.index,\n",
    "    y=df_all['0_remote'],\n",
    "    name='0% remoto',\n",
    "    marker_color='green'\n",
    "))\n",
    "\n",
    "# Hacer que las barras estén apiladas\n",
    "fig.update_layout(barmode='stack')\n",
    "\n",
    "\n",
    "\n",
    "# Añadir etiquetas y título\n",
    "fig.update_layout(\n",
    "    title={\n",
    "        'text': \"Distribución de trabajo remoto por puesto de trabajo\",\n",
    "        'x': 0.5,  # Centrar el título\n",
    "        'xanchor': 'center'  # Anclarlo al centro\n",
    "    },\n",
    "    xaxis_title='Puesto de trabajo',\n",
    "    yaxis_title='Porcentaje de trabajo remoto',\n",
    "    xaxis_tickangle=-90,  # Rotar etiquetas del eje X\n",
    "    height=600,\n",
    "    width=1000\n",
    ")\n",
    "\n",
    "# Mostrar el gráfico\n",
    "fig.show()"
   ]
  },
  {
   "cell_type": "markdown",
   "metadata": {},
   "source": [
    "### ¿Cuál es el salario promedio de los empleados de Data Scientist?"
   ]
  },
  {
   "cell_type": "code",
   "execution_count": 30,
   "metadata": {},
   "outputs": [
    {
     "data": {
      "text/plain": [
       "salary_in_usd    131257.037453\n",
       "Name: Data Scientist, dtype: float64"
      ]
     },
     "execution_count": 30,
     "metadata": {},
     "output_type": "execute_result"
    }
   ],
   "source": [
    "df[['job_title', 'salary_in_usd']].groupby('job_title').agg('mean').loc['Data Scientist']"
   ]
  },
  {
   "cell_type": "markdown",
   "metadata": {},
   "source": [
    "Para representar el salario medio de los data scientist, podemos hacer un boxplot"
   ]
  },
  {
   "cell_type": "code",
   "execution_count": 31,
   "metadata": {},
   "outputs": [
    {
     "data": {
      "image/png": "[encoded data removed]",
      "text/plain": [
       "<Figure size 1200x800 with 1 Axes>"
      ]
     },
     "metadata": {},
     "output_type": "display_data"
    }
   ],
   "source": [
    "#Grafico plano\n",
    "\n",
    "#Se crea la figura\n",
    "plt.figure(figsize=(12, 8))\n",
    "\n",
    "df_DS = df[df['job_title'] == 'Data Scientist']\n",
    "#Se construye el boxplot\n",
    "sns.boxplot(x = 'job_title', y = 'salary_in_usd', data = df_DS)\n",
    "\n",
    "#Se añade una line que marque el salario medio\n",
    "mean_salary = df['salary_in_usd'].mean()\n",
    "plt.axhline(mean_salary, color = 'red', linestyle= '--')\n",
    "\n",
    "plt.text(x=0.1,  # Posición en el eje x (puedes ajustar esto según tu gráfico)\n",
    "         y=mean_salary + (0.1*mean_salary),  # Posición en el eje y (ligeramente por encima de la línea)\n",
    "         s=f'Salario medio (USD): {mean_salary:.2f}',  # Texto que mostrará el valor de la media\n",
    "         color='white')\n",
    "\n",
    "#Titulo y ejes\n",
    "plt.title('Salario de los Data Scientists')\n",
    "plt.xlabel('Puesto de trabajo')\n",
    "plt.ylabel('Salario (USD)')\n",
    "plt.legend()\n",
    "plt.show()"
   ]
  },
  {
   "cell_type": "code",
   "execution_count": 32,
   "metadata": {},
   "outputs": [
    {
     "data": {
      "application/vnd.plotly.v1+json": {
       "config": {
        "plotlyServerURL": "https://plot.ly"
       },
       "data": [
        {
         "alignmentgroup": "True",
         "hovertemplate": "job_title=%{x}<br>salary_in_usd=%{y}<extra></extra>",
         "legendgroup": "",
         "marker": {
          "color": "#636efa"
         },
         "name": "",
         "notched": false,
         "offsetgroup": "",
         "orientation": "v",
         "showlegend": false,
         "type": "box",
         "x": [
          "Data Scientist",
          "Data Scientist",
          "Data Scientist",
          "Data Scientist",
          "Data Scientist",
          "Data Scientist",
          "Data Scientist",
          "Data Scientist",
          "Data Scientist",
          "Data Scientist",
          "Data Scientist",
          "Data Scientist",
          "Data Scientist",
          "Data Scientist",
          "Data Scientist",
          "Data Scientist",
          "Data Scientist",
          "Data Scientist",
          "Data Scientist",
          "Data Scientist",
          "Data Scientist",
          "Data Scientist",
          "Data Scientist",
          "Data Scientist",
          "Data Scientist",
          "Data Scientist",
          "Data Scientist",
          "Data Scientist",
          "Data Scientist",
          "Data Scientist",
          "Data Scientist",
          "Data Scientist",
          "Data Scientist",
          "Data Scientist",
          "Data Scientist",
          "Data Scientist",
          "Data Scientist",
          "Data Scientist",
          "Data Scientist",
          "Data Scientist",
          "Data Scientist",
          "Data Scientist",
          "Data Scientist",
          "Data Scientist",
          "Data Scientist",
          "Data Scientist",
          "Data Scientist",
          "Data Scientist",
          "Data Scientist",
          "Data Scientist",
          "Data Scientist",
          "Data Scientist",
          "Data Scientist",
          "Data Scientist",
          "Data Scientist",
          "Data Scientist",
          "Data Scientist",
          "Data Scientist",
          "Data Scientist",
          "Data Scientist",
          "Data Scientist",
          "Data Scientist",
          "Data Scientist",
          "Data Scientist",
          "Data Scientist",
          "Data Scientist",
          "Data Scientist",
          "Data Scientist",
          "Data Scientist",
          "Data Scientist",
          "Data Scientist",
          "Data Scientist",
          "Data Scientist",
          "Data Scientist",
          "Data Scientist",
          "Data Scientist",
          "Data Scientist",
          "Data Scientist",
          "Data Scientist",
          "Data Scientist",
          "Data Scientist",
          "Data Scientist",
          "Data Scientist",
          "Data Scientist",
          "Data Scientist",
          "Data Scientist",
          "Data Scientist",
          "Data Scientist",
          "Data Scientist",
          "Data Scientist",
          "Data Scientist",
          "Data Scientist",
          "Data Scientist",
          "Data Scientist",
          "Data Scientist",
          "Data Scientist",
          "Data Scientist",
          "Data Scientist",
          "Data Scientist",
          "Data Scientist",
          "Data Scientist",
          "Data Scientist",
          "Data Scientist",
          "Data Scientist",
          "Data Scientist",
          "Data Scientist",
          "Data Scientist",
          "Data Scientist",
          "Data Scientist",
          "Data Scientist",
          "Data Scientist",
          "Data Scientist",
          "Data Scientist",
          "Data Scientist",
          "Data Scientist",
          "Data Scientist",
          "Data Scientist",
          "Data Scientist",
          "Data Scientist",
          "Data Scientist",
          "Data Scientist",
          "Data Scientist",
          "Data Scientist",
          "Data Scientist",
          "Data Scientist",
          "Data Scientist",
          "Data Scientist",
          "Data Scientist",
          "Data Scientist",
          "Data Scientist",
          "Data Scientist",
          "Data Scientist",
          "Data Scientist",
          "Data Scientist",
          "Data Scientist",
          "Data Scientist",
          "Data Scientist",
          "Data Scientist",
          "Data Scientist",
          "Data Scientist",
          "Data Scientist",
          "Data Scientist",
          "Data Scientist",
          "Data Scientist",
          "Data Scientist",
          "Data Scientist",
          "Data Scientist",
          "Data Scientist",
          "Data Scientist",
          "Data Scientist",
          "Data Scientist",
          "Data Scientist",
          "Data Scientist",
          "Data Scientist",
          "Data Scientist",
          "Data Scientist",
          "Data Scientist",
          "Data Scientist",
          "Data Scientist",
          "Data Scientist",
          "Data Scientist",
          "Data Scientist",
          "Data Scientist",
          "Data Scientist",
          "Data Scientist",
          "Data Scientist",
          "Data Scientist",
          "Data Scientist",
          "Data Scientist",
          "Data Scientist",
          "Data Scientist",
          "Data Scientist",
          "Data Scientist",
          "Data Scientist",
          "Data Scientist",
          "Data Scientist",
          "Data Scientist",
          "Data Scientist",
          "Data Scientist",
          "Data Scientist",
          "Data Scientist",
          "Data Scientist",
          "Data Scientist",
          "Data Scientist",
          "Data Scientist",
          "Data Scientist",
          "Data Scientist",
          "Data Scientist",
          "Data Scientist",
          "Data Scientist",
          "Data Scientist",
          "Data Scientist",
          "Data Scientist",
          "Data Scientist",
          "Data Scientist",
          "Data Scientist",
          "Data Scientist",
          "Data Scientist",
          "Data Scientist",
          "Data Scientist",
          "Data Scientist",
          "Data Scientist",
          "Data Scientist",
          "Data Scientist",
          "Data Scientist",
          "Data Scientist",
          "Data Scientist",
          "Data Scientist",
          "Data Scientist",
          "Data Scientist",
          "Data Scientist",
          "Data Scientist",
          "Data Scientist",
          "Data Scientist",
          "Data Scientist",
          "Data Scientist",
          "Data Scientist",
          "Data Scientist",
          "Data Scientist",
          "Data Scientist",
          "Data Scientist",
          "Data Scientist",
          "Data Scientist",
          "Data Scientist",
          "Data Scientist",
          "Data Scientist",
          "Data Scientist",
          "Data Scientist",
          "Data Scientist",
          "Data Scientist",
          "Data Scientist",
          "Data Scientist",
          "Data Scientist",
          "Data Scientist",
          "Data Scientist",
          "Data Scientist",
          "Data Scientist",
          "Data Scientist",
          "Data Scientist",
          "Data Scientist",
          "Data Scientist",
          "Data Scientist",
          "Data Scientist",
          "Data Scientist",
          "Data Scientist",
          "Data Scientist",
          "Data Scientist",
          "Data Scientist",
          "Data Scientist",
          "Data Scientist",
          "Data Scientist",
          "Data Scientist",
          "Data Scientist",
          "Data Scientist",
          "Data Scientist",
          "Data Scientist",
          "Data Scientist",
          "Data Scientist",
          "Data Scientist",
          "Data Scientist",
          "Data Scientist",
          "Data Scientist",
          "Data Scientist",
          "Data Scientist",
          "Data Scientist",
          "Data Scientist",
          "Data Scientist",
          "Data Scientist",
          "Data Scientist",
          "Data Scientist",
          "Data Scientist",
          "Data Scientist",
          "Data Scientist",
          "Data Scientist",
          "Data Scientist",
          "Data Scientist",
          "Data Scientist",
          "Data Scientist",
          "Data Scientist",
          "Data Scientist",
          "Data Scientist",
          "Data Scientist",
          "Data Scientist",
          "Data Scientist",
          "Data Scientist",
          "Data Scientist",
          "Data Scientist",
          "Data Scientist",
          "Data Scientist",
          "Data Scientist",
          "Data Scientist",
          "Data Scientist",
          "Data Scientist",
          "Data Scientist",
          "Data Scientist",
          "Data Scientist",
          "Data Scientist",
          "Data Scientist",
          "Data Scientist",
          "Data Scientist",
          "Data Scientist",
          "Data Scientist",
          "Data Scientist",
          "Data Scientist",
          "Data Scientist",
          "Data Scientist",
          "Data Scientist",
          "Data Scientist",
          "Data Scientist",
          "Data Scientist",
          "Data Scientist",
          "Data Scientist",
          "Data Scientist",
          "Data Scientist",
          "Data Scientist",
          "Data Scientist",
          "Data Scientist",
          "Data Scientist",
          "Data Scientist",
          "Data Scientist",
          "Data Scientist",
          "Data Scientist",
          "Data Scientist",
          "Data Scientist",
          "Data Scientist",
          "Data Scientist",
          "Data Scientist",
          "Data Scientist",
          "Data Scientist",
          "Data Scientist",
          "Data Scientist",
          "Data Scientist",
          "Data Scientist",
          "Data Scientist",
          "Data Scientist",
          "Data Scientist",
          "Data Scientist",
          "Data Scientist",
          "Data Scientist",
          "Data Scientist",
          "Data Scientist",
          "Data Scientist",
          "Data Scientist",
          "Data Scientist",
          "Data Scientist",
          "Data Scientist",
          "Data Scientist",
          "Data Scientist",
          "Data Scientist",
          "Data Scientist",
          "Data Scientist",
          "Data Scientist",
          "Data Scientist",
          "Data Scientist",
          "Data Scientist",
          "Data Scientist",
          "Data Scientist",
          "Data Scientist",
          "Data Scientist",
          "Data Scientist",
          "Data Scientist",
          "Data Scientist",
          "Data Scientist",
          "Data Scientist",
          "Data Scientist",
          "Data Scientist",
          "Data Scientist",
          "Data Scientist",
          "Data Scientist",
          "Data Scientist",
          "Data Scientist",
          "Data Scientist",
          "Data Scientist",
          "Data Scientist",
          "Data Scientist",
          "Data Scientist",
          "Data Scientist",
          "Data Scientist",
          "Data Scientist",
          "Data Scientist",
          "Data Scientist",
          "Data Scientist",
          "Data Scientist",
          "Data Scientist",
          "Data Scientist",
          "Data Scientist",
          "Data Scientist",
          "Data Scientist",
          "Data Scientist",
          "Data Scientist",
          "Data Scientist",
          "Data Scientist",
          "Data Scientist",
          "Data Scientist",
          "Data Scientist",
          "Data Scientist",
          "Data Scientist",
          "Data Scientist",
          "Data Scientist",
          "Data Scientist",
          "Data Scientist",
          "Data Scientist",
          "Data Scientist",
          "Data Scientist",
          "Data Scientist",
          "Data Scientist",
          "Data Scientist",
          "Data Scientist",
          "Data Scientist",
          "Data Scientist",
          "Data Scientist",
          "Data Scientist",
          "Data Scientist",
          "Data Scientist",
          "Data Scientist",
          "Data Scientist",
          "Data Scientist",
          "Data Scientist",
          "Data Scientist",
          "Data Scientist",
          "Data Scientist",
          "Data Scientist",
          "Data Scientist",
          "Data Scientist",
          "Data Scientist",
          "Data Scientist",
          "Data Scientist",
          "Data Scientist",
          "Data Scientist",
          "Data Scientist",
          "Data Scientist",
          "Data Scientist",
          "Data Scientist",
          "Data Scientist",
          "Data Scientist",
          "Data Scientist",
          "Data Scientist",
          "Data Scientist",
          "Data Scientist",
          "Data Scientist",
          "Data Scientist",
          "Data Scientist",
          "Data Scientist",
          "Data Scientist",
          "Data Scientist",
          "Data Scientist",
          "Data Scientist",
          "Data Scientist",
          "Data Scientist",
          "Data Scientist",
          "Data Scientist",
          "Data Scientist",
          "Data Scientist",
          "Data Scientist",
          "Data Scientist",
          "Data Scientist",
          "Data Scientist",
          "Data Scientist",
          "Data Scientist",
          "Data Scientist",
          "Data Scientist",
          "Data Scientist",
          "Data Scientist",
          "Data Scientist",
          "Data Scientist",
          "Data Scientist",
          "Data Scientist",
          "Data Scientist",
          "Data Scientist",
          "Data Scientist",
          "Data Scientist",
          "Data Scientist",
          "Data Scientist",
          "Data Scientist",
          "Data Scientist",
          "Data Scientist",
          "Data Scientist",
          "Data Scientist",
          "Data Scientist",
          "Data Scientist",
          "Data Scientist",
          "Data Scientist",
          "Data Scientist",
          "Data Scientist",
          "Data Scientist",
          "Data Scientist",
          "Data Scientist",
          "Data Scientist",
          "Data Scientist",
          "Data Scientist",
          "Data Scientist",
          "Data Scientist",
          "Data Scientist",
          "Data Scientist",
          "Data Scientist",
          "Data Scientist",
          "Data Scientist",
          "Data Scientist",
          "Data Scientist",
          "Data Scientist",
          "Data Scientist",
          "Data Scientist",
          "Data Scientist",
          "Data Scientist",
          "Data Scientist",
          "Data Scientist",
          "Data Scientist",
          "Data Scientist",
          "Data Scientist",
          "Data Scientist",
          "Data Scientist",
          "Data Scientist",
          "Data Scientist",
          "Data Scientist",
          "Data Scientist",
          "Data Scientist",
          "Data Scientist",
          "Data Scientist",
          "Data Scientist",
          "Data Scientist",
          "Data Scientist",
          "Data Scientist",
          "Data Scientist",
          "Data Scientist",
          "Data Scientist",
          "Data Scientist",
          "Data Scientist",
          "Data Scientist",
          "Data Scientist",
          "Data Scientist",
          "Data Scientist",
          "Data Scientist",
          "Data Scientist",
          "Data Scientist"
         ],
         "x0": " ",
         "xaxis": "x",
         "y": [
          175000,
          120000,
          219000,
          141000,
          147100,
          90700,
          170000,
          150000,
          212750,
          185000,
          262000,
          245000,
          275300,
          183500,
          218500,
          199098,
          258750,
          185000,
          172500,
          110500,
          237000,
          201450,
          65062,
          48289,
          38631,
          105000,
          70000,
          120000,
          138784,
          83270,
          195000,
          160000,
          66837,
          54685,
          228000,
          186000,
          190000,
          224000,
          176000,
          250000,
          162500,
          203500,
          152000,
          239000,
          122900,
          237000,
          145000,
          88256,
          175000,
          145000,
          135000,
          199000,
          162000,
          100000,
          245000,
          180000,
          210000,
          155000,
          165000,
          140000,
          51753,
          130001,
          71907,
          93918,
          51962,
          203000,
          133200,
          185900,
          129300,
          238000,
          156000,
          140000,
          110000,
          157750,
          104650,
          180000,
          140000,
          200000,
          145000,
          252000,
          154000,
          191765,
          134236,
          200000,
          170000,
          171250,
          113750,
          258000,
          190000,
          297300,
          198200,
          170730,
          225000,
          175000,
          183000,
          173000,
          132000,
          100000,
          96578,
          80481,
          78990,
          51039,
          190000,
          120000,
          85066,
          109371,
          72914,
          121093,
          73546,
          60093,
          201036,
          134024,
          172000,
          115000,
          239748,
          159832,
          186300,
          102500,
          126000,
          145000,
          100000,
          205000,
          17022,
          59020,
          48289,
          128750,
          106250,
          210550,
          153300,
          200000,
          150000,
          148750,
          123900,
          64385,
          149076,
          82365,
          97750,
          201000,
          122000,
          116990,
          82920,
          136000,
          160000,
          156400,
          260000,
          40000,
          136000,
          104000,
          168000,
          300240,
          200160,
          126500,
          78000,
          139500,
          19522,
          215050,
          156400,
          209300,
          182200,
          85000,
          9727,
          170000,
          120000,
          135000,
          90000,
          235000,
          216100,
          140800,
          110000,
          151410,
          115360,
          12767,
          185000,
          120250,
          180000,
          225000,
          165000,
          144000,
          183000,
          134000,
          209450,
          158677,
          155000,
          63312,
          240000,
          139000,
          285800,
          154600,
          124234,
          74540,
          12888,
          84000,
          257000,
          77262,
          38631,
          53654,
          130000,
          183310,
          185000,
          220000,
          146000,
          24740,
          182000,
          300000,
          110000,
          168000,
          153400,
          122700,
          205000,
          50000,
          223800,
          172100,
          168400,
          105200,
          187500,
          165000,
          115000,
          54094,
          100000,
          272550,
          198200,
          105000,
          143100,
          113000,
          180560,
          115440,
          120000,
          110000,
          130000,
          13989,
          130000,
          90000,
          150000,
          140000,
          150000,
          127500,
          126500,
          51000,
          272550,
          198200,
          94560,
          52533,
          220000,
          146000,
          120000,
          150000,
          110000,
          190000,
          155000,
          92350,
          67723,
          145000,
          100000,
          31795,
          47280,
          37824,
          175000,
          140000,
          249500,
          149850,
          210000,
          150000,
          182750,
          161500,
          136000,
          104000,
          159000,
          130000,
          124234,
          74540,
          128000,
          81500,
          173000,
          110000,
          165000,
          125000,
          180000,
          120000,
          63040,
          130000,
          95000,
          203500,
          152000,
          120000,
          185900,
          129300,
          120000,
          110000,
          70000,
          64090,
          60938,
          130000,
          90000,
          145000,
          198800,
          122600,
          148000,
          107000,
          168000,
          130000,
          80000,
          208000,
          127000,
          205000,
          185000,
          17684,
          225000,
          156400,
          140700,
          93800,
          135000,
          247500,
          172200,
          177500,
          134000,
          243900,
          156600,
          100000,
          85000,
          78000,
          245000,
          180000,
          198440,
          144000,
          198440,
          144000,
          57872,
          39925,
          159699,
          138938,
          180000,
          175000,
          122500,
          202800,
          104300,
          30000,
          84000,
          54000,
          80000,
          73742,
          33246,
          155000,
          38000,
          153600,
          106800,
          50000,
          123400,
          88100,
          120000,
          55000,
          200000,
          144200,
          115360,
          83171,
          108000,
          198440,
          144000,
          75648,
          10000,
          215000,
          159000,
          236900,
          159200,
          128000,
          191475,
          141525,
          218000,
          145300,
          207000,
          153000,
          102200,
          22892,
          180000,
          165000,
          179400,
          154000,
          93000,
          73000,
          136994,
          101570,
          172000,
          73546,
          50000,
          151800,
          130240,
          179400,
          154000,
          191475,
          141525,
          31520,
          204100,
          136100,
          118208,
          110820,
          170000,
          160000,
          119300,
          225000,
          160000,
          54634,
          82000,
          110000,
          115573,
          89306,
          205000,
          84053,
          140000,
          53416,
          131752,
          52008,
          100000,
          60938,
          80036,
          160000,
          92000,
          25000,
          153000,
          186000,
          148800,
          49268,
          215300,
          158200,
          123000,
          215300,
          140400,
          260000,
          43096,
          80000,
          61566,
          36940,
          165220,
          120160,
          180000,
          120000,
          130000,
          90000,
          136620,
          99360,
          110820,
          98506,
          146000,
          167000,
          211500,
          138600,
          95550,
          205300,
          176000,
          205300,
          140400,
          141300,
          102100,
          230000,
          160000,
          220000,
          172386,
          86193,
          200000,
          185100,
          104890,
          30523,
          17805,
          109000,
          67597,
          51081,
          40000,
          83171,
          165000,
          100000,
          33609,
          135000,
          80000,
          120402,
          48000,
          100000,
          100000,
          100000,
          82500,
          49646,
          9466,
          68428,
          13400,
          75774,
          150000,
          50000,
          45760,
          53192,
          76958,
          29751,
          105000,
          28399,
          90000,
          36643,
          165000,
          103691,
          79833,
          20171,
          58000,
          100000,
          77684,
          25532,
          16904,
          35735,
          135000,
          147000,
          51321,
          40481,
          39916,
          90734,
          5679,
          40038,
          61467,
          37825,
          56256,
          33808,
          116914,
          88654,
          160000,
          12901,
          42197,
          62726,
          21669,
          120000,
          87738,
          130000,
          38776,
          46809,
          91237,
          62726,
          115000,
          73000,
          118000,
          138350,
          119059,
          105000
         ],
         "y0": " ",
         "yaxis": "y"
        }
       ],
       "layout": {
        "boxmode": "group",
        "legend": {
         "tracegroupgap": 0
        },
        "template": {
         "data": {
          "bar": [
           {
            "error_x": {
             "color": "#2a3f5f"
            },
            "error_y": {
             "color": "#2a3f5f"
            },
            "marker": {
             "line": {
              "color": "#E5ECF6",
              "width": 0.5
             },
             "pattern": {
              "fillmode": "overlay",
              "size": 10,
              "solidity": 0.2
             }
            },
            "type": "bar"
           }
          ],
          "barpolar": [
           {
            "marker": {
             "line": {
              "color": "#E5ECF6",
              "width": 0.5
             },
             "pattern": {
              "fillmode": "overlay",
              "size": 10,
              "solidity": 0.2
             }
            },
            "type": "barpolar"
           }
          ],
          "carpet": [
           {
            "aaxis": {
             "endlinecolor": "#2a3f5f",
             "gridcolor": "white",
             "linecolor": "white",
             "minorgridcolor": "white",
             "startlinecolor": "#2a3f5f"
            },
            "baxis": {
             "endlinecolor": "#2a3f5f",
             "gridcolor": "white",
             "linecolor": "white",
             "minorgridcolor": "white",
             "startlinecolor": "#2a3f5f"
            },
            "type": "carpet"
           }
          ],
          "choropleth": [
           {
            "colorbar": {
             "outlinewidth": 0,
             "ticks": ""
            },
            "type": "choropleth"
           }
          ],
          "contour": [
           {
            "colorbar": {
             "outlinewidth": 0,
             "ticks": ""
            },
            "colorscale": [
             [
              0,
              "#0d0887"
             ],
             [
              0.1111111111111111,
              "#46039f"
             ],
             [
              0.2222222222222222,
              "#7201a8"
             ],
             [
              0.3333333333333333,
              "#9c179e"
             ],
             [
              0.4444444444444444,
              "#bd3786"
             ],
             [
              0.5555555555555556,
              "#d8576b"
             ],
             [
              0.6666666666666666,
              "#ed7953"
             ],
             [
              0.7777777777777778,
              "#fb9f3a"
             ],
             [
              0.8888888888888888,
              "#fdca26"
             ],
             [
              1,
              "#f0f921"
             ]
            ],
            "type": "contour"
           }
          ],
          "contourcarpet": [
           {
            "colorbar": {
             "outlinewidth": 0,
             "ticks": ""
            },
            "type": "contourcarpet"
           }
          ],
          "heatmap": [
           {
            "colorbar": {
             "outlinewidth": 0,
             "ticks": ""
            },
            "colorscale": [
             [
              0,
              "#0d0887"
             ],
             [
              0.1111111111111111,
              "#46039f"
             ],
             [
              0.2222222222222222,
              "#7201a8"
             ],
             [
              0.3333333333333333,
              "#9c179e"
             ],
             [
              0.4444444444444444,
              "#bd3786"
             ],
             [
              0.5555555555555556,
              "#d8576b"
             ],
             [
              0.6666666666666666,
              "#ed7953"
             ],
             [
              0.7777777777777778,
              "#fb9f3a"
             ],
             [
              0.8888888888888888,
              "#fdca26"
             ],
             [
              1,
              "#f0f921"
             ]
            ],
            "type": "heatmap"
           }
          ],
          "heatmapgl": [
           {
            "colorbar": {
             "outlinewidth": 0,
             "ticks": ""
            },
            "colorscale": [
             [
              0,
              "#0d0887"
             ],
             [
              0.1111111111111111,
              "#46039f"
             ],
             [
              0.2222222222222222,
              "#7201a8"
             ],
             [
              0.3333333333333333,
              "#9c179e"
             ],
             [
              0.4444444444444444,
              "#bd3786"
             ],
             [
              0.5555555555555556,
              "#d8576b"
             ],
             [
              0.6666666666666666,
              "#ed7953"
             ],
             [
              0.7777777777777778,
              "#fb9f3a"
             ],
             [
              0.8888888888888888,
              "#fdca26"
             ],
             [
              1,
              "#f0f921"
             ]
            ],
            "type": "heatmapgl"
           }
          ],
          "histogram": [
           {
            "marker": {
             "pattern": {
              "fillmode": "overlay",
              "size": 10,
              "solidity": 0.2
             }
            },
            "type": "histogram"
           }
          ],
          "histogram2d": [
           {
            "colorbar": {
             "outlinewidth": 0,
             "ticks": ""
            },
            "colorscale": [
             [
              0,
              "#0d0887"
             ],
             [
              0.1111111111111111,
              "#46039f"
             ],
             [
              0.2222222222222222,
              "#7201a8"
             ],
             [
              0.3333333333333333,
              "#9c179e"
             ],
             [
              0.4444444444444444,
              "#bd3786"
             ],
             [
              0.5555555555555556,
              "#d8576b"
             ],
             [
              0.6666666666666666,
              "#ed7953"
             ],
             [
              0.7777777777777778,
              "#fb9f3a"
             ],
             [
              0.8888888888888888,
              "#fdca26"
             ],
             [
              1,
              "#f0f921"
             ]
            ],
            "type": "histogram2d"
           }
          ],
          "histogram2dcontour": [
           {
            "colorbar": {
             "outlinewidth": 0,
             "ticks": ""
            },
            "colorscale": [
             [
              0,
              "#0d0887"
             ],
             [
              0.1111111111111111,
              "#46039f"
             ],
             [
              0.2222222222222222,
              "#7201a8"
             ],
             [
              0.3333333333333333,
              "#9c179e"
             ],
             [
              0.4444444444444444,
              "#bd3786"
             ],
             [
              0.5555555555555556,
              "#d8576b"
             ],
             [
              0.6666666666666666,
              "#ed7953"
             ],
             [
              0.7777777777777778,
              "#fb9f3a"
             ],
             [
              0.8888888888888888,
              "#fdca26"
             ],
             [
              1,
              "#f0f921"
             ]
            ],
            "type": "histogram2dcontour"
           }
          ],
          "mesh3d": [
           {
            "colorbar": {
             "outlinewidth": 0,
             "ticks": ""
            },
            "type": "mesh3d"
           }
          ],
          "parcoords": [
           {
            "line": {
             "colorbar": {
              "outlinewidth": 0,
              "ticks": ""
             }
            },
            "type": "parcoords"
           }
          ],
          "pie": [
           {
            "automargin": true,
            "type": "pie"
           }
          ],
          "scatter": [
           {
            "fillpattern": {
             "fillmode": "overlay",
             "size": 10,
             "solidity": 0.2
            },
            "type": "scatter"
           }
          ],
          "scatter3d": [
           {
            "line": {
             "colorbar": {
              "outlinewidth": 0,
              "ticks": ""
             }
            },
            "marker": {
             "colorbar": {
              "outlinewidth": 0,
              "ticks": ""
             }
            },
            "type": "scatter3d"
           }
          ],
          "scattercarpet": [
           {
            "marker": {
             "colorbar": {
              "outlinewidth": 0,
              "ticks": ""
             }
            },
            "type": "scattercarpet"
           }
          ],
          "scattergeo": [
           {
            "marker": {
             "colorbar": {
              "outlinewidth": 0,
              "ticks": ""
             }
            },
            "type": "scattergeo"
           }
          ],
          "scattergl": [
           {
            "marker": {
             "colorbar": {
              "outlinewidth": 0,
              "ticks": ""
             }
            },
            "type": "scattergl"
           }
          ],
          "scattermapbox": [
           {
            "marker": {
             "colorbar": {
              "outlinewidth": 0,
              "ticks": ""
             }
            },
            "type": "scattermapbox"
           }
          ],
          "scatterpolar": [
           {
            "marker": {
             "colorbar": {
              "outlinewidth": 0,
              "ticks": ""
             }
            },
            "type": "scatterpolar"
           }
          ],
          "scatterpolargl": [
           {
            "marker": {
             "colorbar": {
              "outlinewidth": 0,
              "ticks": ""
             }
            },
            "type": "scatterpolargl"
           }
          ],
          "scatterternary": [
           {
            "marker": {
             "colorbar": {
              "outlinewidth": 0,
              "ticks": ""
             }
            },
            "type": "scatterternary"
           }
          ],
          "surface": [
           {
            "colorbar": {
             "outlinewidth": 0,
             "ticks": ""
            },
            "colorscale": [
             [
              0,
              "#0d0887"
             ],
             [
              0.1111111111111111,
              "#46039f"
             ],
             [
              0.2222222222222222,
              "#7201a8"
             ],
             [
              0.3333333333333333,
              "#9c179e"
             ],
             [
              0.4444444444444444,
              "#bd3786"
             ],
             [
              0.5555555555555556,
              "#d8576b"
             ],
             [
              0.6666666666666666,
              "#ed7953"
             ],
             [
              0.7777777777777778,
              "#fb9f3a"
             ],
             [
              0.8888888888888888,
              "#fdca26"
             ],
             [
              1,
              "#f0f921"
             ]
            ],
            "type": "surface"
           }
          ],
          "table": [
           {
            "cells": {
             "fill": {
              "color": "#EBF0F8"
             },
             "line": {
              "color": "white"
             }
            },
            "header": {
             "fill": {
              "color": "#C8D4E3"
             },
             "line": {
              "color": "white"
             }
            },
            "type": "table"
           }
          ]
         },
         "layout": {
          "annotationdefaults": {
           "arrowcolor": "#2a3f5f",
           "arrowhead": 0,
           "arrowwidth": 1
          },
          "autotypenumbers": "strict",
          "coloraxis": {
           "colorbar": {
            "outlinewidth": 0,
            "ticks": ""
           }
          },
          "colorscale": {
           "diverging": [
            [
             0,
             "#8e0152"
            ],
            [
             0.1,
             "#c51b7d"
            ],
            [
             0.2,
             "#de77ae"
            ],
            [
             0.3,
             "#f1b6da"
            ],
            [
             0.4,
             "#fde0ef"
            ],
            [
             0.5,
             "#f7f7f7"
            ],
            [
             0.6,
             "#e6f5d0"
            ],
            [
             0.7,
             "#b8e186"
            ],
            [
             0.8,
             "#7fbc41"
            ],
            [
             0.9,
             "#4d9221"
            ],
            [
             1,
             "#276419"
            ]
           ],
           "sequential": [
            [
             0,
             "#0d0887"
            ],
            [
             0.1111111111111111,
             "#46039f"
            ],
            [
             0.2222222222222222,
             "#7201a8"
            ],
            [
             0.3333333333333333,
             "#9c179e"
            ],
            [
             0.4444444444444444,
             "#bd3786"
            ],
            [
             0.5555555555555556,
             "#d8576b"
            ],
            [
             0.6666666666666666,
             "#ed7953"
            ],
            [
             0.7777777777777778,
             "#fb9f3a"
            ],
            [
             0.8888888888888888,
             "#fdca26"
            ],
            [
             1,
             "#f0f921"
            ]
           ],
           "sequentialminus": [
            [
             0,
             "#0d0887"
            ],
            [
             0.1111111111111111,
             "#46039f"
            ],
            [
             0.2222222222222222,
             "#7201a8"
            ],
            [
             0.3333333333333333,
             "#9c179e"
            ],
            [
             0.4444444444444444,
             "#bd3786"
            ],
            [
             0.5555555555555556,
             "#d8576b"
            ],
            [
             0.6666666666666666,
             "#ed7953"
            ],
            [
             0.7777777777777778,
             "#fb9f3a"
            ],
            [
             0.8888888888888888,
             "#fdca26"
            ],
            [
             1,
             "#f0f921"
            ]
           ]
          },
          "colorway": [
           "#636efa",
           "#EF553B",
           "#00cc96",
           "#ab63fa",
           "#FFA15A",
           "#19d3f3",
           "#FF6692",
           "#B6E880",
           "#FF97FF",
           "#FECB52"
          ],
          "font": {
           "color": "#2a3f5f"
          },
          "geo": {
           "bgcolor": "white",
           "lakecolor": "white",
           "landcolor": "#E5ECF6",
           "showlakes": true,
           "showland": true,
           "subunitcolor": "white"
          },
          "hoverlabel": {
           "align": "left"
          },
          "hovermode": "closest",
          "mapbox": {
           "style": "light"
          },
          "paper_bgcolor": "white",
          "plot_bgcolor": "#E5ECF6",
          "polar": {
           "angularaxis": {
            "gridcolor": "white",
            "linecolor": "white",
            "ticks": ""
           },
           "bgcolor": "#E5ECF6",
           "radialaxis": {
            "gridcolor": "white",
            "linecolor": "white",
            "ticks": ""
           }
          },
          "scene": {
           "xaxis": {
            "backgroundcolor": "#E5ECF6",
            "gridcolor": "white",
            "gridwidth": 2,
            "linecolor": "white",
            "showbackground": true,
            "ticks": "",
            "zerolinecolor": "white"
           },
           "yaxis": {
            "backgroundcolor": "#E5ECF6",
            "gridcolor": "white",
            "gridwidth": 2,
            "linecolor": "white",
            "showbackground": true,
            "ticks": "",
            "zerolinecolor": "white"
           },
           "zaxis": {
            "backgroundcolor": "#E5ECF6",
            "gridcolor": "white",
            "gridwidth": 2,
            "linecolor": "white",
            "showbackground": true,
            "ticks": "",
            "zerolinecolor": "white"
           }
          },
          "shapedefaults": {
           "line": {
            "color": "#2a3f5f"
           }
          },
          "ternary": {
           "aaxis": {
            "gridcolor": "white",
            "linecolor": "white",
            "ticks": ""
           },
           "baxis": {
            "gridcolor": "white",
            "linecolor": "white",
            "ticks": ""
           },
           "bgcolor": "#E5ECF6",
           "caxis": {
            "gridcolor": "white",
            "linecolor": "white",
            "ticks": ""
           }
          },
          "title": {
           "x": 0.05
          },
          "xaxis": {
           "automargin": true,
           "gridcolor": "white",
           "linecolor": "white",
           "ticks": "",
           "title": {
            "standoff": 15
           },
           "zerolinecolor": "white",
           "zerolinewidth": 2
          },
          "yaxis": {
           "automargin": true,
           "gridcolor": "white",
           "linecolor": "white",
           "ticks": "",
           "title": {
            "standoff": 15
           },
           "zerolinecolor": "white",
           "zerolinewidth": 2
          }
         }
        },
        "title": {
         "text": "Salario de los Data Scientist"
        },
        "xaxis": {
         "anchor": "y",
         "domain": [
          0,
          1
         ],
         "title": {
          "text": "Salario (USD)"
         }
        },
        "yaxis": {
         "anchor": "x",
         "domain": [
          0,
          1
         ],
         "title": {
          "text": "Puesto de trabajo"
         }
        }
       }
      }
     },
     "metadata": {},
     "output_type": "display_data"
    }
   ],
   "source": [
    "#Grafico interactivo\n",
    "\n",
    "fig = px.box(df_DS, x = 'job_title', y = 'salary_in_usd', title = 'Salario de los Data Scientist')\n",
    "fig.update_layout(\n",
    "    yaxis_title='Puesto de trabajo',\n",
    "    xaxis_title='Salario (USD)'\n",
    ")\n",
    "fig.show()"
   ]
  },
  {
   "cell_type": "markdown",
   "metadata": {},
   "source": [
    "### ¿Cuántas personas ganan por encima de los 200ks?"
   ]
  },
  {
   "cell_type": "code",
   "execution_count": 33,
   "metadata": {},
   "outputs": [
    {
     "data": {
      "text/plain": [
       "347"
      ]
     },
     "execution_count": 33,
     "metadata": {},
     "output_type": "execute_result"
    }
   ],
   "source": [
    "len(df[df['salary_in_usd'] > 200000])  ##Cuando miramos salario, hay que tener en cuenta la divisa, asi que mejor mirar salary_in_usd"
   ]
  },
  {
   "cell_type": "markdown",
   "metadata": {},
   "source": [
    "Para represantar esto graficamente, lo que haremos será un grafico de cuentas que represente los trabajadores con un sueldo mayor a 200k, repartidos en los distintos puestos de trabajo"
   ]
  },
  {
   "cell_type": "code",
   "execution_count": 34,
   "metadata": {},
   "outputs": [
    {
     "data": {
      "image/png": "[encoded data removed]",
      "text/plain": [
       "<Figure size 1600x400 with 1 Axes>"
      ]
     },
     "metadata": {},
     "output_type": "display_data"
    }
   ],
   "source": [
    "#Cogemos los empleos mas comunes entre la gente que cobra mas de 200k\n",
    "df_200k = df[df['salary_in_usd'] > 200000]['job_title'].value_counts().head(10)\n",
    "\n",
    "\n",
    "#Cambiamos el DF original para que los titulos de empleo que no estan entre los 10 primeros sean a partir de ahora 'otros'\n",
    "df['job_title_top10'] = df['job_title'].apply(lambda x: x if x in df_200k else 'otros')\n",
    "df['job_title_top10']\n",
    "\n",
    "#Calculamos el numero de trabajadores que superan los 200k para cada uno de los empleos\n",
    "job_title_counts = df[df['salary_in_usd'] > 200_000]['job_title_top10'].value_counts()\n",
    "\n",
    "#Sacamos el porcentaje en funcion del tipo de empleo\n",
    "total_count = job_title_counts.sum()\n",
    "job_perc= (job_title_counts / total_count * 100).round(2)\n",
    "\n",
    "#Construimos el grafico\n",
    "plt.figure(figsize=(16,4))\n",
    "\n",
    "sns.countplot(data = df[df['salary_in_usd']>200000], y = 'job_title_top10', order= job_title_counts.index)\n",
    "for i, count in enumerate(job_title_counts):\n",
    "    plt.text(count, i, f'{count} ({job_perc[i]}%)', va='center_baseline', color = 'black')\n",
    "\n",
    "plt.grid(visible = True, which='both', axis = 'x')\n",
    "plt.xlabel('Numero de empleados con un sueldo mayor a 200k$')\n",
    "plt.ylabel('Puesto de trabajo')\n",
    "plt.yticks(rotation = 15)\n",
    "\n",
    "plt.title('Trabajadores con un sueldo mayor a 200k$')\n",
    "plt.show()"
   ]
  },
  {
   "cell_type": "code",
   "execution_count": 35,
   "metadata": {},
   "outputs": [
    {
     "data": {
      "application/vnd.plotly.v1+json": {
       "config": {
        "plotlyServerURL": "https://plot.ly"
       },
       "data": [
        {
         "marker": {
          "color": "blue"
         },
         "orientation": "h",
         "text": [
          "98 (28.24%)",
          "72 (20.75%)",
          "50 (14.41%)",
          "35 (10.09%)",
          "16 (4.61%)",
          "15 (4.32%)",
          "15 (4.32%)",
          "12 (3.46%)",
          "12 (3.46%)",
          "11 (3.17%)",
          "11 (3.17%)"
         ],
         "textposition": "auto",
         "type": "bar",
         "x": [
          98,
          72,
          50,
          35,
          16,
          15,
          15,
          12,
          12,
          11,
          11
         ],
         "y": [
          "Data Engineer",
          "Data Scientist",
          "otros",
          "Machine Learning Engineer",
          "Data Science Manager",
          "Data Analyst",
          "Analytics Engineer",
          "Applied Scientist",
          "Data Architect",
          "Research Scientist",
          "ML Engineer"
         ]
        }
       ],
       "layout": {
        "height": 500,
        "template": {
         "data": {
          "bar": [
           {
            "error_x": {
             "color": "#2a3f5f"
            },
            "error_y": {
             "color": "#2a3f5f"
            },
            "marker": {
             "line": {
              "color": "#E5ECF6",
              "width": 0.5
             },
             "pattern": {
              "fillmode": "overlay",
              "size": 10,
              "solidity": 0.2
             }
            },
            "type": "bar"
           }
          ],
          "barpolar": [
           {
            "marker": {
             "line": {
              "color": "#E5ECF6",
              "width": 0.5
             },
             "pattern": {
              "fillmode": "overlay",
              "size": 10,
              "solidity": 0.2
             }
            },
            "type": "barpolar"
           }
          ],
          "carpet": [
           {
            "aaxis": {
             "endlinecolor": "#2a3f5f",
             "gridcolor": "white",
             "linecolor": "white",
             "minorgridcolor": "white",
             "startlinecolor": "#2a3f5f"
            },
            "baxis": {
             "endlinecolor": "#2a3f5f",
             "gridcolor": "white",
             "linecolor": "white",
             "minorgridcolor": "white",
             "startlinecolor": "#2a3f5f"
            },
            "type": "carpet"
           }
          ],
          "choropleth": [
           {
            "colorbar": {
             "outlinewidth": 0,
             "ticks": ""
            },
            "type": "choropleth"
           }
          ],
          "contour": [
           {
            "colorbar": {
             "outlinewidth": 0,
             "ticks": ""
            },
            "colorscale": [
             [
              0,
              "#0d0887"
             ],
             [
              0.1111111111111111,
              "#46039f"
             ],
             [
              0.2222222222222222,
              "#7201a8"
             ],
             [
              0.3333333333333333,
              "#9c179e"
             ],
             [
              0.4444444444444444,
              "#bd3786"
             ],
             [
              0.5555555555555556,
              "#d8576b"
             ],
             [
              0.6666666666666666,
              "#ed7953"
             ],
             [
              0.7777777777777778,
              "#fb9f3a"
             ],
             [
              0.8888888888888888,
              "#fdca26"
             ],
             [
              1,
              "#f0f921"
             ]
            ],
            "type": "contour"
           }
          ],
          "contourcarpet": [
           {
            "colorbar": {
             "outlinewidth": 0,
             "ticks": ""
            },
            "type": "contourcarpet"
           }
          ],
          "heatmap": [
           {
            "colorbar": {
             "outlinewidth": 0,
             "ticks": ""
            },
            "colorscale": [
             [
              0,
              "#0d0887"
             ],
             [
              0.1111111111111111,
              "#46039f"
             ],
             [
              0.2222222222222222,
              "#7201a8"
             ],
             [
              0.3333333333333333,
              "#9c179e"
             ],
             [
              0.4444444444444444,
              "#bd3786"
             ],
             [
              0.5555555555555556,
              "#d8576b"
             ],
             [
              0.6666666666666666,
              "#ed7953"
             ],
             [
              0.7777777777777778,
              "#fb9f3a"
             ],
             [
              0.8888888888888888,
              "#fdca26"
             ],
             [
              1,
              "#f0f921"
             ]
            ],
            "type": "heatmap"
           }
          ],
          "heatmapgl": [
           {
            "colorbar": {
             "outlinewidth": 0,
             "ticks": ""
            },
            "colorscale": [
             [
              0,
              "#0d0887"
             ],
             [
              0.1111111111111111,
              "#46039f"
             ],
             [
              0.2222222222222222,
              "#7201a8"
             ],
             [
              0.3333333333333333,
              "#9c179e"
             ],
             [
              0.4444444444444444,
              "#bd3786"
             ],
             [
              0.5555555555555556,
              "#d8576b"
             ],
             [
              0.6666666666666666,
              "#ed7953"
             ],
             [
              0.7777777777777778,
              "#fb9f3a"
             ],
             [
              0.8888888888888888,
              "#fdca26"
             ],
             [
              1,
              "#f0f921"
             ]
            ],
            "type": "heatmapgl"
           }
          ],
          "histogram": [
           {
            "marker": {
             "pattern": {
              "fillmode": "overlay",
              "size": 10,
              "solidity": 0.2
             }
            },
            "type": "histogram"
           }
          ],
          "histogram2d": [
           {
            "colorbar": {
             "outlinewidth": 0,
             "ticks": ""
            },
            "colorscale": [
             [
              0,
              "#0d0887"
             ],
             [
              0.1111111111111111,
              "#46039f"
             ],
             [
              0.2222222222222222,
              "#7201a8"
             ],
             [
              0.3333333333333333,
              "#9c179e"
             ],
             [
              0.4444444444444444,
              "#bd3786"
             ],
             [
              0.5555555555555556,
              "#d8576b"
             ],
             [
              0.6666666666666666,
              "#ed7953"
             ],
             [
              0.7777777777777778,
              "#fb9f3a"
             ],
             [
              0.8888888888888888,
              "#fdca26"
             ],
             [
              1,
              "#f0f921"
             ]
            ],
            "type": "histogram2d"
           }
          ],
          "histogram2dcontour": [
           {
            "colorbar": {
             "outlinewidth": 0,
             "ticks": ""
            },
            "colorscale": [
             [
              0,
              "#0d0887"
             ],
             [
              0.1111111111111111,
              "#46039f"
             ],
             [
              0.2222222222222222,
              "#7201a8"
             ],
             [
              0.3333333333333333,
              "#9c179e"
             ],
             [
              0.4444444444444444,
              "#bd3786"
             ],
             [
              0.5555555555555556,
              "#d8576b"
             ],
             [
              0.6666666666666666,
              "#ed7953"
             ],
             [
              0.7777777777777778,
              "#fb9f3a"
             ],
             [
              0.8888888888888888,
              "#fdca26"
             ],
             [
              1,
              "#f0f921"
             ]
            ],
            "type": "histogram2dcontour"
           }
          ],
          "mesh3d": [
           {
            "colorbar": {
             "outlinewidth": 0,
             "ticks": ""
            },
            "type": "mesh3d"
           }
          ],
          "parcoords": [
           {
            "line": {
             "colorbar": {
              "outlinewidth": 0,
              "ticks": ""
             }
            },
            "type": "parcoords"
           }
          ],
          "pie": [
           {
            "automargin": true,
            "type": "pie"
           }
          ],
          "scatter": [
           {
            "fillpattern": {
             "fillmode": "overlay",
             "size": 10,
             "solidity": 0.2
            },
            "type": "scatter"
           }
          ],
          "scatter3d": [
           {
            "line": {
             "colorbar": {
              "outlinewidth": 0,
              "ticks": ""
             }
            },
            "marker": {
             "colorbar": {
              "outlinewidth": 0,
              "ticks": ""
             }
            },
            "type": "scatter3d"
           }
          ],
          "scattercarpet": [
           {
            "marker": {
             "colorbar": {
              "outlinewidth": 0,
              "ticks": ""
             }
            },
            "type": "scattercarpet"
           }
          ],
          "scattergeo": [
           {
            "marker": {
             "colorbar": {
              "outlinewidth": 0,
              "ticks": ""
             }
            },
            "type": "scattergeo"
           }
          ],
          "scattergl": [
           {
            "marker": {
             "colorbar": {
              "outlinewidth": 0,
              "ticks": ""
             }
            },
            "type": "scattergl"
           }
          ],
          "scattermapbox": [
           {
            "marker": {
             "colorbar": {
              "outlinewidth": 0,
              "ticks": ""
             }
            },
            "type": "scattermapbox"
           }
          ],
          "scatterpolar": [
           {
            "marker": {
             "colorbar": {
              "outlinewidth": 0,
              "ticks": ""
             }
            },
            "type": "scatterpolar"
           }
          ],
          "scatterpolargl": [
           {
            "marker": {
             "colorbar": {
              "outlinewidth": 0,
              "ticks": ""
             }
            },
            "type": "scatterpolargl"
           }
          ],
          "scatterternary": [
           {
            "marker": {
             "colorbar": {
              "outlinewidth": 0,
              "ticks": ""
             }
            },
            "type": "scatterternary"
           }
          ],
          "surface": [
           {
            "colorbar": {
             "outlinewidth": 0,
             "ticks": ""
            },
            "colorscale": [
             [
              0,
              "#0d0887"
             ],
             [
              0.1111111111111111,
              "#46039f"
             ],
             [
              0.2222222222222222,
              "#7201a8"
             ],
             [
              0.3333333333333333,
              "#9c179e"
             ],
             [
              0.4444444444444444,
              "#bd3786"
             ],
             [
              0.5555555555555556,
              "#d8576b"
             ],
             [
              0.6666666666666666,
              "#ed7953"
             ],
             [
              0.7777777777777778,
              "#fb9f3a"
             ],
             [
              0.8888888888888888,
              "#fdca26"
             ],
             [
              1,
              "#f0f921"
             ]
            ],
            "type": "surface"
           }
          ],
          "table": [
           {
            "cells": {
             "fill": {
              "color": "#EBF0F8"
             },
             "line": {
              "color": "white"
             }
            },
            "header": {
             "fill": {
              "color": "#C8D4E3"
             },
             "line": {
              "color": "white"
             }
            },
            "type": "table"
           }
          ]
         },
         "layout": {
          "annotationdefaults": {
           "arrowcolor": "#2a3f5f",
           "arrowhead": 0,
           "arrowwidth": 1
          },
          "autotypenumbers": "strict",
          "coloraxis": {
           "colorbar": {
            "outlinewidth": 0,
            "ticks": ""
           }
          },
          "colorscale": {
           "diverging": [
            [
             0,
             "#8e0152"
            ],
            [
             0.1,
             "#c51b7d"
            ],
            [
             0.2,
             "#de77ae"
            ],
            [
             0.3,
             "#f1b6da"
            ],
            [
             0.4,
             "#fde0ef"
            ],
            [
             0.5,
             "#f7f7f7"
            ],
            [
             0.6,
             "#e6f5d0"
            ],
            [
             0.7,
             "#b8e186"
            ],
            [
             0.8,
             "#7fbc41"
            ],
            [
             0.9,
             "#4d9221"
            ],
            [
             1,
             "#276419"
            ]
           ],
           "sequential": [
            [
             0,
             "#0d0887"
            ],
            [
             0.1111111111111111,
             "#46039f"
            ],
            [
             0.2222222222222222,
             "#7201a8"
            ],
            [
             0.3333333333333333,
             "#9c179e"
            ],
            [
             0.4444444444444444,
             "#bd3786"
            ],
            [
             0.5555555555555556,
             "#d8576b"
            ],
            [
             0.6666666666666666,
             "#ed7953"
            ],
            [
             0.7777777777777778,
             "#fb9f3a"
            ],
            [
             0.8888888888888888,
             "#fdca26"
            ],
            [
             1,
             "#f0f921"
            ]
           ],
           "sequentialminus": [
            [
             0,
             "#0d0887"
            ],
            [
             0.1111111111111111,
             "#46039f"
            ],
            [
             0.2222222222222222,
             "#7201a8"
            ],
            [
             0.3333333333333333,
             "#9c179e"
            ],
            [
             0.4444444444444444,
             "#bd3786"
            ],
            [
             0.5555555555555556,
             "#d8576b"
            ],
            [
             0.6666666666666666,
             "#ed7953"
            ],
            [
             0.7777777777777778,
             "#fb9f3a"
            ],
            [
             0.8888888888888888,
             "#fdca26"
            ],
            [
             1,
             "#f0f921"
            ]
           ]
          },
          "colorway": [
           "#636efa",
           "#EF553B",
           "#00cc96",
           "#ab63fa",
           "#FFA15A",
           "#19d3f3",
           "#FF6692",
           "#B6E880",
           "#FF97FF",
           "#FECB52"
          ],
          "font": {
           "color": "#2a3f5f"
          },
          "geo": {
           "bgcolor": "white",
           "lakecolor": "white",
           "landcolor": "#E5ECF6",
           "showlakes": true,
           "showland": true,
           "subunitcolor": "white"
          },
          "hoverlabel": {
           "align": "left"
          },
          "hovermode": "closest",
          "mapbox": {
           "style": "light"
          },
          "paper_bgcolor": "white",
          "plot_bgcolor": "#E5ECF6",
          "polar": {
           "angularaxis": {
            "gridcolor": "white",
            "linecolor": "white",
            "ticks": ""
           },
           "bgcolor": "#E5ECF6",
           "radialaxis": {
            "gridcolor": "white",
            "linecolor": "white",
            "ticks": ""
           }
          },
          "scene": {
           "xaxis": {
            "backgroundcolor": "#E5ECF6",
            "gridcolor": "white",
            "gridwidth": 2,
            "linecolor": "white",
            "showbackground": true,
            "ticks": "",
            "zerolinecolor": "white"
           },
           "yaxis": {
            "backgroundcolor": "#E5ECF6",
            "gridcolor": "white",
            "gridwidth": 2,
            "linecolor": "white",
            "showbackground": true,
            "ticks": "",
            "zerolinecolor": "white"
           },
           "zaxis": {
            "backgroundcolor": "#E5ECF6",
            "gridcolor": "white",
            "gridwidth": 2,
            "linecolor": "white",
            "showbackground": true,
            "ticks": "",
            "zerolinecolor": "white"
           }
          },
          "shapedefaults": {
           "line": {
            "color": "#2a3f5f"
           }
          },
          "ternary": {
           "aaxis": {
            "gridcolor": "white",
            "linecolor": "white",
            "ticks": ""
           },
           "baxis": {
            "gridcolor": "white",
            "linecolor": "white",
            "ticks": ""
           },
           "bgcolor": "#E5ECF6",
           "caxis": {
            "gridcolor": "white",
            "linecolor": "white",
            "ticks": ""
           }
          },
          "title": {
           "x": 0.05
          },
          "xaxis": {
           "automargin": true,
           "gridcolor": "white",
           "linecolor": "white",
           "ticks": "",
           "title": {
            "standoff": 15
           },
           "zerolinecolor": "white",
           "zerolinewidth": 2
          },
          "yaxis": {
           "automargin": true,
           "gridcolor": "white",
           "linecolor": "white",
           "ticks": "",
           "title": {
            "standoff": 15
           },
           "zerolinecolor": "white",
           "zerolinewidth": 2
          }
         }
        },
        "title": {
         "text": "Trabajadores con un sueldo mayor a 200k$",
         "x": 0.5,
         "xanchor": "center"
        },
        "width": 800,
        "xaxis": {
         "title": {
          "text": "Número de empleados con un sueldo mayor a 200k$"
         }
        },
        "yaxis": {
         "categoryorder": "total ascending",
         "tickangle": -15,
         "title": {
          "text": "Puesto de trabajo"
         }
        }
       }
      }
     },
     "metadata": {},
     "output_type": "display_data"
    }
   ],
   "source": [
    "\n",
    "# Construir el gráfico interactivo con Plotly\n",
    "fig = go.Figure()\n",
    "\n",
    "# Añadir barras\n",
    "fig.add_trace(go.Bar(\n",
    "    y=job_title_counts.index,\n",
    "    x=job_title_counts.values,\n",
    "    orientation='h',  # Barras horizontales\n",
    "    text=[f'{count} ({perc}%)' for count, perc in zip(job_title_counts.values, job_perc)],\n",
    "    textposition='auto',  # Poner el texto directamente sobre las barras\n",
    "    marker=dict(color='blue')\n",
    "))\n",
    "\n",
    "# Configurar el diseño del gráfico\n",
    "fig.update_layout(\n",
    "    title={\n",
    "        'text': \"Trabajadores con un sueldo mayor a 200k$\",\n",
    "        'x': 0.5,\n",
    "        'xanchor': 'center'\n",
    "    },\n",
    "    xaxis_title='Número de empleados con un sueldo mayor a 200k$',\n",
    "    yaxis_title='Puesto de trabajo',\n",
    "    yaxis=dict(\n",
    "        categoryorder='total ascending'  # Invertir el orden del eje Y\n",
    "    ),\n",
    "    height=500,\n",
    "    width=800,\n",
    "    yaxis_tickangle=-15  # Rotar las etiquetas del eje Y\n",
    ")\n",
    "\n",
    "# Mostrar el gráfico\n",
    "fig.show()"
   ]
  },
  {
   "cell_type": "markdown",
   "metadata": {},
   "source": [
    "### ¿Cuál es el salario promedio de los empleados Data Modeler en SE\n",
    " "
   ]
  },
  {
   "cell_type": "code",
   "execution_count": 36,
   "metadata": {},
   "outputs": [
    {
     "data": {
      "image/png": "[encoded data removed]",
      "text/plain": [
       "<Figure size 900x600 with 1 Axes>"
      ]
     },
     "metadata": {},
     "output_type": "display_data"
    }
   ],
   "source": [
    "# df_DM_SE =pd.DataFrame(df['salary_in_usd'][(df['job_title'] == 'Data Modeler') & (df['experience_level'] == 'SE')])\n",
    "\n",
    "df_plot =  df[(df['job_title'] == 'Data Modeler') & (df['experience_level'] == 'SE')]\n",
    "\n",
    "plt.figure(figsize=(9,6))\n",
    "sns.boxplot(x = 'job_title', y='salary_in_usd', data =df_plot)\n",
    "\n",
    "#Se añade una line que marque el salario medio\n",
    "mean_salary = df_plot['salary_in_usd'].mean()\n",
    "plt.axhline(mean_salary, color = 'red', linestyle= '--')\n",
    "\n",
    "plt.text(x=0,  # Posición en el eje x (puedes ajustar esto según tu gráfico)\n",
    "         y=mean_salary + (0.01*mean_salary),  # Posición en el eje y (ligeramente por encima de la línea)\n",
    "         s=f'Salario medio (USD): {mean_salary:.2f}',  # Texto que mostrará el valor de la media\n",
    "         color='white')\n",
    "\n",
    "plt.title('Salario de los empleados Data Modeler en SE')\n",
    "plt.xlabel('Puesto de trabajo')\n",
    "plt.ylabel('Salario (USD)')\n",
    "\n",
    "plt.show()"
   ]
  },
  {
   "cell_type": "markdown",
   "metadata": {},
   "source": [
    "### Para los ML Engineer, ¿qué diferencia de salario hay entre full time y part time?\n",
    " "
   ]
  },
  {
   "cell_type": "markdown",
   "metadata": {},
   "source": [
    "Aquí, para hacer un análisis un poco más en profundidad, primero se calcula la diferencia de salario que se pide. Luego, se representa un gráfico de estimación de densidad de kernel (KDE). En él se puede apreciar la distribución de los salarios en función del tipo de empleo."
   ]
  },
  {
   "cell_type": "code",
   "execution_count": 37,
   "metadata": {},
   "outputs": [
    {
     "data": {
      "text/html": [
       "<div>\n",
       "<style scoped>\n",
       "    .dataframe tbody tr th:only-of-type {\n",
       "        vertical-align: middle;\n",
       "    }\n",
       "\n",
       "    .dataframe tbody tr th {\n",
       "        vertical-align: top;\n",
       "    }\n",
       "\n",
       "    .dataframe thead th {\n",
       "        text-align: right;\n",
       "    }\n",
       "</style>\n",
       "<table border=\"1\" class=\"dataframe\">\n",
       "  <thead>\n",
       "    <tr style=\"text-align: right;\">\n",
       "      <th></th>\n",
       "      <th>salary_in_usd</th>\n",
       "    </tr>\n",
       "    <tr>\n",
       "      <th>employment_type</th>\n",
       "      <th></th>\n",
       "    </tr>\n",
       "  </thead>\n",
       "  <tbody>\n",
       "    <tr>\n",
       "      <th>CT</th>\n",
       "      <td>108500.0</td>\n",
       "    </tr>\n",
       "    <tr>\n",
       "      <th>FT</th>\n",
       "      <td>168083.9</td>\n",
       "    </tr>\n",
       "    <tr>\n",
       "      <th>PT</th>\n",
       "      <td>15966.0</td>\n",
       "    </tr>\n",
       "  </tbody>\n",
       "</table>\n",
       "</div>"
      ],
      "text/plain": [
       "                 salary_in_usd\n",
       "employment_type               \n",
       "CT                    108500.0\n",
       "FT                    168083.9\n",
       "PT                     15966.0"
      ]
     },
     "execution_count": 37,
     "metadata": {},
     "output_type": "execute_result"
    }
   ],
   "source": [
    "df[['employment_type','salary_in_usd']][df['job_title']=='ML Engineer'].groupby('employment_type').mean()"
   ]
  },
  {
   "cell_type": "code",
   "execution_count": 38,
   "metadata": {},
   "outputs": [
    {
     "data": {
      "text/plain": [
       "(salary_in_usd    152117.9\n",
       " dtype: float64,\n",
       " salary_in_usd    10.527615\n",
       " dtype: float64)"
      ]
     },
     "execution_count": 38,
     "metadata": {},
     "output_type": "execute_result"
    }
   ],
   "source": [
    "salary_FT = df[['employment_type','salary_in_usd']][df['job_title']=='ML Engineer'].groupby('employment_type').mean().loc['FT']\n",
    "salary_PT = df[['employment_type','salary_in_usd']][df['job_title']=='ML Engineer'].groupby('employment_type').mean().loc['PT']\n",
    "\n",
    "salary_FT-salary_PT, salary_FT/salary_PT"
   ]
  },
  {
   "cell_type": "code",
   "execution_count": 39,
   "metadata": {},
   "outputs": [
    {
     "data": {
      "image/png": "[encoded data removed]",
      "text/plain": [
       "<Figure size 1000x600 with 1 Axes>"
      ]
     },
     "metadata": {},
     "output_type": "display_data"
    }
   ],
   "source": [
    "plt.figure(figsize=(10, 6))\n",
    "sns.histplot(data=df[df['job_title'] == 'ML Engineer'], x='salary_in_usd', hue='employment_type', kde=True)\n",
    "plt.title('Distribución de Salarios para ML Engineer')\n",
    "plt.xlabel('Salario (USD)')\n",
    "plt.ylabel('Nº de trabajadores')\n",
    "\n",
    "plt.show()"
   ]
  },
  {
   "cell_type": "markdown",
   "metadata": {},
   "source": [
    "### ¿En qué país, en cuanto a localización de la compañía, hay mayor ratio de teletrabajo?"
   ]
  },
  {
   "cell_type": "markdown",
   "metadata": {},
   "source": [
    "Para esto utilizamos la misma tecnica que antes, pero cambiando el puesto de trabajo con el país."
   ]
  },
  {
   "cell_type": "code",
   "execution_count": 40,
   "metadata": {},
   "outputs": [
    {
     "data": {
      "text/html": [
       "<div>\n",
       "<style scoped>\n",
       "    .dataframe tbody tr th:only-of-type {\n",
       "        vertical-align: middle;\n",
       "    }\n",
       "\n",
       "    .dataframe tbody tr th {\n",
       "        vertical-align: top;\n",
       "    }\n",
       "\n",
       "    .dataframe thead th {\n",
       "        text-align: right;\n",
       "    }\n",
       "</style>\n",
       "<table border=\"1\" class=\"dataframe\">\n",
       "  <thead>\n",
       "    <tr style=\"text-align: right;\">\n",
       "      <th></th>\n",
       "      <th>remote_ratio</th>\n",
       "    </tr>\n",
       "    <tr>\n",
       "      <th>company_location</th>\n",
       "      <th></th>\n",
       "    </tr>\n",
       "  </thead>\n",
       "  <tbody>\n",
       "    <tr>\n",
       "      <th>AR</th>\n",
       "      <td>100.000000</td>\n",
       "    </tr>\n",
       "    <tr>\n",
       "      <th>KE</th>\n",
       "      <td>100.000000</td>\n",
       "    </tr>\n",
       "    <tr>\n",
       "      <th>MY</th>\n",
       "      <td>100.000000</td>\n",
       "    </tr>\n",
       "    <tr>\n",
       "      <th>IL</th>\n",
       "      <td>100.000000</td>\n",
       "    </tr>\n",
       "    <tr>\n",
       "      <th>EG</th>\n",
       "      <td>100.000000</td>\n",
       "    </tr>\n",
       "    <tr>\n",
       "      <th>CR</th>\n",
       "      <td>100.000000</td>\n",
       "    </tr>\n",
       "    <tr>\n",
       "      <th>CF</th>\n",
       "      <td>100.000000</td>\n",
       "    </tr>\n",
       "    <tr>\n",
       "      <th>CL</th>\n",
       "      <td>100.000000</td>\n",
       "    </tr>\n",
       "    <tr>\n",
       "      <th>PH</th>\n",
       "      <td>100.000000</td>\n",
       "    </tr>\n",
       "    <tr>\n",
       "      <th>PL</th>\n",
       "      <td>100.000000</td>\n",
       "    </tr>\n",
       "    <tr>\n",
       "      <th>PR</th>\n",
       "      <td>100.000000</td>\n",
       "    </tr>\n",
       "    <tr>\n",
       "      <th>SK</th>\n",
       "      <td>100.000000</td>\n",
       "    </tr>\n",
       "    <tr>\n",
       "      <th>NG</th>\n",
       "      <td>100.000000</td>\n",
       "    </tr>\n",
       "    <tr>\n",
       "      <th>IR</th>\n",
       "      <td>100.000000</td>\n",
       "    </tr>\n",
       "    <tr>\n",
       "      <th>MX</th>\n",
       "      <td>90.000000</td>\n",
       "    </tr>\n",
       "    <tr>\n",
       "      <th>SI</th>\n",
       "      <td>87.500000</td>\n",
       "    </tr>\n",
       "    <tr>\n",
       "      <th>BR</th>\n",
       "      <td>86.666667</td>\n",
       "    </tr>\n",
       "    <tr>\n",
       "      <th>CZ</th>\n",
       "      <td>83.333333</td>\n",
       "    </tr>\n",
       "    <tr>\n",
       "      <th>LU</th>\n",
       "      <td>83.333333</td>\n",
       "    </tr>\n",
       "    <tr>\n",
       "      <th>GR</th>\n",
       "      <td>81.818182</td>\n",
       "    </tr>\n",
       "  </tbody>\n",
       "</table>\n",
       "</div>"
      ],
      "text/plain": [
       "                  remote_ratio\n",
       "company_location              \n",
       "AR                  100.000000\n",
       "KE                  100.000000\n",
       "MY                  100.000000\n",
       "IL                  100.000000\n",
       "EG                  100.000000\n",
       "CR                  100.000000\n",
       "CF                  100.000000\n",
       "CL                  100.000000\n",
       "PH                  100.000000\n",
       "PL                  100.000000\n",
       "PR                  100.000000\n",
       "SK                  100.000000\n",
       "NG                  100.000000\n",
       "IR                  100.000000\n",
       "MX                   90.000000\n",
       "SI                   87.500000\n",
       "BR                   86.666667\n",
       "CZ                   83.333333\n",
       "LU                   83.333333\n",
       "GR                   81.818182"
      ]
     },
     "execution_count": 40,
     "metadata": {},
     "output_type": "execute_result"
    }
   ],
   "source": [
    "df[['company_location', 'remote_ratio']].groupby('company_location').agg('mean').sort_values(by='remote_ratio', ascending=False).head(20)"
   ]
  },
  {
   "cell_type": "code",
   "execution_count": 41,
   "metadata": {},
   "outputs": [],
   "source": [
    "location_counts = df['company_location'].groupby(df['company_location']).transform('count')\n",
    "\n",
    "# Filtrar el DataFrame para obtener solo las filas donde 'company_location' tenga al menos 10 instancias\n",
    "df_job10 = df[location_counts >= 10]\n"
   ]
  },
  {
   "cell_type": "code",
   "execution_count": 42,
   "metadata": {},
   "outputs": [
    {
     "data": {
      "text/html": [
       "<div>\n",
       "<style scoped>\n",
       "    .dataframe tbody tr th:only-of-type {\n",
       "        vertical-align: middle;\n",
       "    }\n",
       "\n",
       "    .dataframe tbody tr th {\n",
       "        vertical-align: top;\n",
       "    }\n",
       "\n",
       "    .dataframe thead th {\n",
       "        text-align: right;\n",
       "    }\n",
       "</style>\n",
       "<table border=\"1\" class=\"dataframe\">\n",
       "  <thead>\n",
       "    <tr style=\"text-align: right;\">\n",
       "      <th></th>\n",
       "      <th>remote_ratio</th>\n",
       "      <th>job_count</th>\n",
       "      <th>100_remote</th>\n",
       "      <th>50_remote</th>\n",
       "      <th>0_remote</th>\n",
       "    </tr>\n",
       "    <tr>\n",
       "      <th>company_location</th>\n",
       "      <th></th>\n",
       "      <th></th>\n",
       "      <th></th>\n",
       "      <th></th>\n",
       "      <th></th>\n",
       "    </tr>\n",
       "  </thead>\n",
       "  <tbody>\n",
       "    <tr>\n",
       "      <th>FR</th>\n",
       "      <td>63.636364</td>\n",
       "      <td>33</td>\n",
       "      <td>33.33</td>\n",
       "      <td>60.61</td>\n",
       "      <td>6.06</td>\n",
       "    </tr>\n",
       "    <tr>\n",
       "      <th>PT</th>\n",
       "      <td>39.285714</td>\n",
       "      <td>14</td>\n",
       "      <td>28.57</td>\n",
       "      <td>21.43</td>\n",
       "      <td>50.00</td>\n",
       "    </tr>\n",
       "    <tr>\n",
       "      <th>AU</th>\n",
       "      <td>67.857143</td>\n",
       "      <td>14</td>\n",
       "      <td>50.00</td>\n",
       "      <td>35.71</td>\n",
       "      <td>14.29</td>\n",
       "    </tr>\n",
       "    <tr>\n",
       "      <th>NL</th>\n",
       "      <td>57.692308</td>\n",
       "      <td>13</td>\n",
       "      <td>46.15</td>\n",
       "      <td>23.08</td>\n",
       "      <td>30.77</td>\n",
       "    </tr>\n",
       "    <tr>\n",
       "      <th>GR</th>\n",
       "      <td>81.818182</td>\n",
       "      <td>11</td>\n",
       "      <td>72.73</td>\n",
       "      <td>18.18</td>\n",
       "      <td>9.09</td>\n",
       "    </tr>\n",
       "  </tbody>\n",
       "</table>\n",
       "</div>"
      ],
      "text/plain": [
       "                  remote_ratio  job_count  100_remote  50_remote  0_remote\n",
       "company_location                                                          \n",
       "FR                   63.636364         33       33.33      60.61      6.06\n",
       "PT                   39.285714         14       28.57      21.43     50.00\n",
       "AU                   67.857143         14       50.00      35.71     14.29\n",
       "NL                   57.692308         13       46.15      23.08     30.77\n",
       "GR                   81.818182         11       72.73      18.18      9.09"
      ]
     },
     "execution_count": 42,
     "metadata": {},
     "output_type": "execute_result"
    }
   ],
   "source": [
    "location_counts = df['company_location'].groupby(df['company_location']).transform('count')\n",
    "\n",
    "# Filtrar el DataFrame para obtener solo las filas donde 'company_location' tenga al menos 10 instancias\n",
    "df_job10 = df[location_counts >= 10]\n",
    "\n",
    "\n",
    "#Calculo el porcentaje de trabajo remoto para cada empleo, y el numero de empleados en ese puesto\n",
    "df_remote = df_job10[['company_location', 'remote_ratio']].groupby('company_location').agg('mean')\n",
    "df_count = df_job10[['company_location', 'remote_ratio']].groupby('company_location').agg('count').rename(columns={'remote_ratio':'job_count'})\n",
    "df_join = pd.merge(df_remote, df_count, how='inner', on= 'company_location').sort_values(by='remote_ratio', ascending=False)\n",
    "df_join.sort_values(by='job_count', ascending=False)\n",
    "\n",
    "#Aqui calculo, para cada puesto, cuantos trabajan 100% remoto, cuantos 50% y cuantos 0%\n",
    "df_100= df[['company_location' , 'remote_ratio']][df['remote_ratio'] == 100]\n",
    "df_50= df[['company_location' , 'remote_ratio']][df['remote_ratio'] == 50]\n",
    "df_0= df[['company_location' , 'remote_ratio']][df['remote_ratio'] == 0]\n",
    "\n",
    "df_100 =df_100.groupby('company_location').agg('count').rename(columns={'remote_ratio':'100_remote'})\n",
    "df_50 =df_50.groupby('company_location').agg('count').rename(columns={'remote_ratio':'50_remote'})\n",
    "df_0 = df_0.groupby('company_location').agg('count').rename(columns={'remote_ratio':'0_remote'})\n",
    "\n",
    "df_remote = pd.merge(df_100, df_50, how = 'inner', on='company_location')\n",
    "df_remote = pd.merge(df_remote, df_0, how = 'inner', on='company_location')\n",
    "\n",
    "#Por ultimo, saco el porcentaje de trabajadores que tienen 100, 50 y 0% de remoto respectivamente\n",
    "df_all = pd.merge(df_join, df_remote, how='inner', on='company_location')\n",
    "\n",
    "df_all['100_remote'] = (df_all['100_remote'] /df_all['job_count'] *100).round(2)\n",
    "df_all['50_remote'] = (df_all['50_remote'] /df_all['job_count'] *100).round(2)\n",
    "df_all['0_remote'] = (df_all['0_remote'] /df_all['job_count'] *100).round(2)\n",
    "\n",
    "df_all.sort_values(by='job_count', ascending=False).head()\n",
    "\n",
    "#Por ultimo, saco el porcentaje de trabajadores que tienen 100, 50 y 0% de remoto respectivamente\n",
    "df_all = pd.merge(df_join, df_remote, how='inner', on='company_location')\n",
    "\n",
    "df_all['100_remote'] = (df_all['100_remote'] /df_all['job_count'] *100).round(2)\n",
    "df_all['50_remote'] = (df_all['50_remote'] /df_all['job_count'] *100).round(2)\n",
    "df_all['0_remote'] = (df_all['0_remote'] /df_all['job_count'] *100).round(2)\n",
    "\n",
    "df_all.sort_values(by='job_count', ascending=False).tail()\n"
   ]
  },
  {
   "cell_type": "code",
   "execution_count": 43,
   "metadata": {},
   "outputs": [
    {
     "data": {
      "image/png": "[encoded data removed]",
      "text/plain": [
       "<Figure size 1500x500 with 1 Axes>"
      ]
     },
     "metadata": {},
     "output_type": "display_data"
    }
   ],
   "source": [
    "\n",
    "# Crear un gráfico de barras apiladas\n",
    "df_all[['100_remote', '50_remote', '0_remote']].plot(kind='bar', stacked=True, figsize=(15, 5))\n",
    "\n",
    "plt.xlabel('País')\n",
    "plt.ylabel('Porcentaje de trabajo remoto')\n",
    "plt.title('Distribución de trabajo remoto por país')\n",
    "plt.show()"
   ]
  },
  {
   "cell_type": "code",
   "execution_count": 44,
   "metadata": {},
   "outputs": [
    {
     "data": {
      "application/vnd.plotly.v1+json": {
       "config": {
        "plotlyServerURL": "https://plot.ly"
       },
       "data": [
        {
         "marker": {
          "color": "blue"
         },
         "name": "100% remoto",
         "type": "bar",
         "x": [
          "GR",
          "IN",
          "AU",
          "FR",
          "CA",
          "DE",
          "NL",
          "ES",
          "US",
          "GB",
          "PT"
         ],
         "y": [
          72.73,
          50.88,
          50,
          33.33,
          53.01,
          45.45,
          46.15,
          47.73,
          47.58,
          35.71,
          28.57
         ]
        },
        {
         "marker": {
          "color": "orange"
         },
         "name": "50% remoto",
         "type": "bar",
         "x": [
          "GR",
          "IN",
          "AU",
          "FR",
          "CA",
          "DE",
          "NL",
          "ES",
          "US",
          "GB",
          "PT"
         ],
         "y": [
          18.18,
          35.09,
          35.71,
          60.61,
          14.46,
          25.45,
          23.08,
          11.36,
          1.95,
          11.04,
          21.43
         ]
        },
        {
         "marker": {
          "color": "green"
         },
         "name": "0% remoto",
         "type": "bar",
         "x": [
          "GR",
          "IN",
          "AU",
          "FR",
          "CA",
          "DE",
          "NL",
          "ES",
          "US",
          "GB",
          "PT"
         ],
         "y": [
          9.09,
          14.04,
          14.29,
          6.06,
          32.53,
          29.09,
          30.77,
          40.91,
          50.47,
          53.25,
          50
         ]
        }
       ],
       "layout": {
        "barmode": "stack",
        "height": 600,
        "template": {
         "data": {
          "bar": [
           {
            "error_x": {
             "color": "#2a3f5f"
            },
            "error_y": {
             "color": "#2a3f5f"
            },
            "marker": {
             "line": {
              "color": "#E5ECF6",
              "width": 0.5
             },
             "pattern": {
              "fillmode": "overlay",
              "size": 10,
              "solidity": 0.2
             }
            },
            "type": "bar"
           }
          ],
          "barpolar": [
           {
            "marker": {
             "line": {
              "color": "#E5ECF6",
              "width": 0.5
             },
             "pattern": {
              "fillmode": "overlay",
              "size": 10,
              "solidity": 0.2
             }
            },
            "type": "barpolar"
           }
          ],
          "carpet": [
           {
            "aaxis": {
             "endlinecolor": "#2a3f5f",
             "gridcolor": "white",
             "linecolor": "white",
             "minorgridcolor": "white",
             "startlinecolor": "#2a3f5f"
            },
            "baxis": {
             "endlinecolor": "#2a3f5f",
             "gridcolor": "white",
             "linecolor": "white",
             "minorgridcolor": "white",
             "startlinecolor": "#2a3f5f"
            },
            "type": "carpet"
           }
          ],
          "choropleth": [
           {
            "colorbar": {
             "outlinewidth": 0,
             "ticks": ""
            },
            "type": "choropleth"
           }
          ],
          "contour": [
           {
            "colorbar": {
             "outlinewidth": 0,
             "ticks": ""
            },
            "colorscale": [
             [
              0,
              "#0d0887"
             ],
             [
              0.1111111111111111,
              "#46039f"
             ],
             [
              0.2222222222222222,
              "#7201a8"
             ],
             [
              0.3333333333333333,
              "#9c179e"
             ],
             [
              0.4444444444444444,
              "#bd3786"
             ],
             [
              0.5555555555555556,
              "#d8576b"
             ],
             [
              0.6666666666666666,
              "#ed7953"
             ],
             [
              0.7777777777777778,
              "#fb9f3a"
             ],
             [
              0.8888888888888888,
              "#fdca26"
             ],
             [
              1,
              "#f0f921"
             ]
            ],
            "type": "contour"
           }
          ],
          "contourcarpet": [
           {
            "colorbar": {
             "outlinewidth": 0,
             "ticks": ""
            },
            "type": "contourcarpet"
           }
          ],
          "heatmap": [
           {
            "colorbar": {
             "outlinewidth": 0,
             "ticks": ""
            },
            "colorscale": [
             [
              0,
              "#0d0887"
             ],
             [
              0.1111111111111111,
              "#46039f"
             ],
             [
              0.2222222222222222,
              "#7201a8"
             ],
             [
              0.3333333333333333,
              "#9c179e"
             ],
             [
              0.4444444444444444,
              "#bd3786"
             ],
             [
              0.5555555555555556,
              "#d8576b"
             ],
             [
              0.6666666666666666,
              "#ed7953"
             ],
             [
              0.7777777777777778,
              "#fb9f3a"
             ],
             [
              0.8888888888888888,
              "#fdca26"
             ],
             [
              1,
              "#f0f921"
             ]
            ],
            "type": "heatmap"
           }
          ],
          "heatmapgl": [
           {
            "colorbar": {
             "outlinewidth": 0,
             "ticks": ""
            },
            "colorscale": [
             [
              0,
              "#0d0887"
             ],
             [
              0.1111111111111111,
              "#46039f"
             ],
             [
              0.2222222222222222,
              "#7201a8"
             ],
             [
              0.3333333333333333,
              "#9c179e"
             ],
             [
              0.4444444444444444,
              "#bd3786"
             ],
             [
              0.5555555555555556,
              "#d8576b"
             ],
             [
              0.6666666666666666,
              "#ed7953"
             ],
             [
              0.7777777777777778,
              "#fb9f3a"
             ],
             [
              0.8888888888888888,
              "#fdca26"
             ],
             [
              1,
              "#f0f921"
             ]
            ],
            "type": "heatmapgl"
           }
          ],
          "histogram": [
           {
            "marker": {
             "pattern": {
              "fillmode": "overlay",
              "size": 10,
              "solidity": 0.2
             }
            },
            "type": "histogram"
           }
          ],
          "histogram2d": [
           {
            "colorbar": {
             "outlinewidth": 0,
             "ticks": ""
            },
            "colorscale": [
             [
              0,
              "#0d0887"
             ],
             [
              0.1111111111111111,
              "#46039f"
             ],
             [
              0.2222222222222222,
              "#7201a8"
             ],
             [
              0.3333333333333333,
              "#9c179e"
             ],
             [
              0.4444444444444444,
              "#bd3786"
             ],
             [
              0.5555555555555556,
              "#d8576b"
             ],
             [
              0.6666666666666666,
              "#ed7953"
             ],
             [
              0.7777777777777778,
              "#fb9f3a"
             ],
             [
              0.8888888888888888,
              "#fdca26"
             ],
             [
              1,
              "#f0f921"
             ]
            ],
            "type": "histogram2d"
           }
          ],
          "histogram2dcontour": [
           {
            "colorbar": {
             "outlinewidth": 0,
             "ticks": ""
            },
            "colorscale": [
             [
              0,
              "#0d0887"
             ],
             [
              0.1111111111111111,
              "#46039f"
             ],
             [
              0.2222222222222222,
              "#7201a8"
             ],
             [
              0.3333333333333333,
              "#9c179e"
             ],
             [
              0.4444444444444444,
              "#bd3786"
             ],
             [
              0.5555555555555556,
              "#d8576b"
             ],
             [
              0.6666666666666666,
              "#ed7953"
             ],
             [
              0.7777777777777778,
              "#fb9f3a"
             ],
             [
              0.8888888888888888,
              "#fdca26"
             ],
             [
              1,
              "#f0f921"
             ]
            ],
            "type": "histogram2dcontour"
           }
          ],
          "mesh3d": [
           {
            "colorbar": {
             "outlinewidth": 0,
             "ticks": ""
            },
            "type": "mesh3d"
           }
          ],
          "parcoords": [
           {
            "line": {
             "colorbar": {
              "outlinewidth": 0,
              "ticks": ""
             }
            },
            "type": "parcoords"
           }
          ],
          "pie": [
           {
            "automargin": true,
            "type": "pie"
           }
          ],
          "scatter": [
           {
            "fillpattern": {
             "fillmode": "overlay",
             "size": 10,
             "solidity": 0.2
            },
            "type": "scatter"
           }
          ],
          "scatter3d": [
           {
            "line": {
             "colorbar": {
              "outlinewidth": 0,
              "ticks": ""
             }
            },
            "marker": {
             "colorbar": {
              "outlinewidth": 0,
              "ticks": ""
             }
            },
            "type": "scatter3d"
           }
          ],
          "scattercarpet": [
           {
            "marker": {
             "colorbar": {
              "outlinewidth": 0,
              "ticks": ""
             }
            },
            "type": "scattercarpet"
           }
          ],
          "scattergeo": [
           {
            "marker": {
             "colorbar": {
              "outlinewidth": 0,
              "ticks": ""
             }
            },
            "type": "scattergeo"
           }
          ],
          "scattergl": [
           {
            "marker": {
             "colorbar": {
              "outlinewidth": 0,
              "ticks": ""
             }
            },
            "type": "scattergl"
           }
          ],
          "scattermapbox": [
           {
            "marker": {
             "colorbar": {
              "outlinewidth": 0,
              "ticks": ""
             }
            },
            "type": "scattermapbox"
           }
          ],
          "scatterpolar": [
           {
            "marker": {
             "colorbar": {
              "outlinewidth": 0,
              "ticks": ""
             }
            },
            "type": "scatterpolar"
           }
          ],
          "scatterpolargl": [
           {
            "marker": {
             "colorbar": {
              "outlinewidth": 0,
              "ticks": ""
             }
            },
            "type": "scatterpolargl"
           }
          ],
          "scatterternary": [
           {
            "marker": {
             "colorbar": {
              "outlinewidth": 0,
              "ticks": ""
             }
            },
            "type": "scatterternary"
           }
          ],
          "surface": [
           {
            "colorbar": {
             "outlinewidth": 0,
             "ticks": ""
            },
            "colorscale": [
             [
              0,
              "#0d0887"
             ],
             [
              0.1111111111111111,
              "#46039f"
             ],
             [
              0.2222222222222222,
              "#7201a8"
             ],
             [
              0.3333333333333333,
              "#9c179e"
             ],
             [
              0.4444444444444444,
              "#bd3786"
             ],
             [
              0.5555555555555556,
              "#d8576b"
             ],
             [
              0.6666666666666666,
              "#ed7953"
             ],
             [
              0.7777777777777778,
              "#fb9f3a"
             ],
             [
              0.8888888888888888,
              "#fdca26"
             ],
             [
              1,
              "#f0f921"
             ]
            ],
            "type": "surface"
           }
          ],
          "table": [
           {
            "cells": {
             "fill": {
              "color": "#EBF0F8"
             },
             "line": {
              "color": "white"
             }
            },
            "header": {
             "fill": {
              "color": "#C8D4E3"
             },
             "line": {
              "color": "white"
             }
            },
            "type": "table"
           }
          ]
         },
         "layout": {
          "annotationdefaults": {
           "arrowcolor": "#2a3f5f",
           "arrowhead": 0,
           "arrowwidth": 1
          },
          "autotypenumbers": "strict",
          "coloraxis": {
           "colorbar": {
            "outlinewidth": 0,
            "ticks": ""
           }
          },
          "colorscale": {
           "diverging": [
            [
             0,
             "#8e0152"
            ],
            [
             0.1,
             "#c51b7d"
            ],
            [
             0.2,
             "#de77ae"
            ],
            [
             0.3,
             "#f1b6da"
            ],
            [
             0.4,
             "#fde0ef"
            ],
            [
             0.5,
             "#f7f7f7"
            ],
            [
             0.6,
             "#e6f5d0"
            ],
            [
             0.7,
             "#b8e186"
            ],
            [
             0.8,
             "#7fbc41"
            ],
            [
             0.9,
             "#4d9221"
            ],
            [
             1,
             "#276419"
            ]
           ],
           "sequential": [
            [
             0,
             "#0d0887"
            ],
            [
             0.1111111111111111,
             "#46039f"
            ],
            [
             0.2222222222222222,
             "#7201a8"
            ],
            [
             0.3333333333333333,
             "#9c179e"
            ],
            [
             0.4444444444444444,
             "#bd3786"
            ],
            [
             0.5555555555555556,
             "#d8576b"
            ],
            [
             0.6666666666666666,
             "#ed7953"
            ],
            [
             0.7777777777777778,
             "#fb9f3a"
            ],
            [
             0.8888888888888888,
             "#fdca26"
            ],
            [
             1,
             "#f0f921"
            ]
           ],
           "sequentialminus": [
            [
             0,
             "#0d0887"
            ],
            [
             0.1111111111111111,
             "#46039f"
            ],
            [
             0.2222222222222222,
             "#7201a8"
            ],
            [
             0.3333333333333333,
             "#9c179e"
            ],
            [
             0.4444444444444444,
             "#bd3786"
            ],
            [
             0.5555555555555556,
             "#d8576b"
            ],
            [
             0.6666666666666666,
             "#ed7953"
            ],
            [
             0.7777777777777778,
             "#fb9f3a"
            ],
            [
             0.8888888888888888,
             "#fdca26"
            ],
            [
             1,
             "#f0f921"
            ]
           ]
          },
          "colorway": [
           "#636efa",
           "#EF553B",
           "#00cc96",
           "#ab63fa",
           "#FFA15A",
           "#19d3f3",
           "#FF6692",
           "#B6E880",
           "#FF97FF",
           "#FECB52"
          ],
          "font": {
           "color": "#2a3f5f"
          },
          "geo": {
           "bgcolor": "white",
           "lakecolor": "white",
           "landcolor": "#E5ECF6",
           "showlakes": true,
           "showland": true,
           "subunitcolor": "white"
          },
          "hoverlabel": {
           "align": "left"
          },
          "hovermode": "closest",
          "mapbox": {
           "style": "light"
          },
          "paper_bgcolor": "white",
          "plot_bgcolor": "#E5ECF6",
          "polar": {
           "angularaxis": {
            "gridcolor": "white",
            "linecolor": "white",
            "ticks": ""
           },
           "bgcolor": "#E5ECF6",
           "radialaxis": {
            "gridcolor": "white",
            "linecolor": "white",
            "ticks": ""
           }
          },
          "scene": {
           "xaxis": {
            "backgroundcolor": "#E5ECF6",
            "gridcolor": "white",
            "gridwidth": 2,
            "linecolor": "white",
            "showbackground": true,
            "ticks": "",
            "zerolinecolor": "white"
           },
           "yaxis": {
            "backgroundcolor": "#E5ECF6",
            "gridcolor": "white",
            "gridwidth": 2,
            "linecolor": "white",
            "showbackground": true,
            "ticks": "",
            "zerolinecolor": "white"
           },
           "zaxis": {
            "backgroundcolor": "#E5ECF6",
            "gridcolor": "white",
            "gridwidth": 2,
            "linecolor": "white",
            "showbackground": true,
            "ticks": "",
            "zerolinecolor": "white"
           }
          },
          "shapedefaults": {
           "line": {
            "color": "#2a3f5f"
           }
          },
          "ternary": {
           "aaxis": {
            "gridcolor": "white",
            "linecolor": "white",
            "ticks": ""
           },
           "baxis": {
            "gridcolor": "white",
            "linecolor": "white",
            "ticks": ""
           },
           "bgcolor": "#E5ECF6",
           "caxis": {
            "gridcolor": "white",
            "linecolor": "white",
            "ticks": ""
           }
          },
          "title": {
           "x": 0.05
          },
          "xaxis": {
           "automargin": true,
           "gridcolor": "white",
           "linecolor": "white",
           "ticks": "",
           "title": {
            "standoff": 15
           },
           "zerolinecolor": "white",
           "zerolinewidth": 2
          },
          "yaxis": {
           "automargin": true,
           "gridcolor": "white",
           "linecolor": "white",
           "ticks": "",
           "title": {
            "standoff": 15
           },
           "zerolinecolor": "white",
           "zerolinewidth": 2
          }
         }
        },
        "title": {
         "text": "Distribución de trabajo remoto por país",
         "x": 0.5,
         "xanchor": "center"
        },
        "width": 1000,
        "xaxis": {
         "tickangle": 0,
         "title": {
          "text": "País"
         }
        },
        "yaxis": {
         "title": {
          "text": "Porcentaje de trabajo remoto"
         }
        }
       }
      }
     },
     "metadata": {},
     "output_type": "display_data"
    }
   ],
   "source": [
    "#Grafico interactivo\n",
    "\n",
    "# Crear las trazas para cada categoría (100% remoto, 50% remoto y 0% remoto)\n",
    "fig = go.Figure()\n",
    "\n",
    "fig.add_trace(go.Bar(\n",
    "    x=df_all.index,\n",
    "    y=df_all['100_remote'],\n",
    "    name='100% remoto',\n",
    "    marker_color='blue'\n",
    "))\n",
    "\n",
    "fig.add_trace(go.Bar(\n",
    "    x=df_all.index,\n",
    "    y=df_all['50_remote'],\n",
    "    name='50% remoto',\n",
    "    marker_color='orange'\n",
    "))\n",
    "\n",
    "fig.add_trace(go.Bar(\n",
    "    x=df_all.index,\n",
    "    y=df_all['0_remote'],\n",
    "    name='0% remoto',\n",
    "    marker_color='green'\n",
    "))\n",
    "\n",
    "# Hacer que las barras estén apiladas\n",
    "fig.update_layout(barmode='stack')\n",
    "\n",
    "\n",
    "\n",
    "# Añadir etiquetas y título\n",
    "fig.update_layout(\n",
    "    title={\n",
    "        'text': \"Distribución de trabajo remoto por país\",\n",
    "        'x': 0.5,  # Centrar el título\n",
    "        'xanchor': 'center'  # Anclarlo al centro\n",
    "    },\n",
    "    xaxis_title='País',\n",
    "    yaxis_title='Porcentaje de trabajo remoto',\n",
    "    xaxis_tickangle=0,  \n",
    "    height=600,\n",
    "    width=1000\n",
    ")\n",
    "\n",
    "# Mostrar el gráfico\n",
    "fig.show()"
   ]
  }
 ],
 "metadata": {
  "kernelspec": {
   "display_name": "Python 3",
   "language": "python",
   "name": "python3"
  },
  "language_info": {
   "codemirror_mode": {
    "name": "ipython",
    "version": 3
   },
   "file_extension": ".py",
   "mimetype": "text/x-python",
   "name": "python",
   "nbconvert_exporter": "python",
   "pygments_lexer": "ipython3",
   "version": "3.10.11"
  }
 },
 "nbformat": 4,
 "nbformat_minor": 2
}
